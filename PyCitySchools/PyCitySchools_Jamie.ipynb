{
 "cells": [
  {
   "cell_type": "markdown",
   "metadata": {},
   "source": [
    "## PyCity Schools Analysis\n",
    "\n",
    "Findings: "
   ]
  },
  {
   "cell_type": "code",
   "execution_count": 1,
   "metadata": {},
   "outputs": [],
   "source": [
    "# Dependencies and Setup\n",
    "import pandas as pd\n",
    "\n",
    "# File to Load (Remember to Change These)\n",
    "school_data_to_load = \"Resources/schools_complete.csv\"\n",
    "student_data_to_load = \"Resources/students_complete.csv\"\n",
    "\n",
    "# Read School and Student Data File and store into Pandas DataFrames\n",
    "school_data = pd.read_csv(school_data_to_load)\n",
    "student_data = pd.read_csv(student_data_to_load)\n",
    "\n"
   ]
  },
  {
   "cell_type": "code",
   "execution_count": 3,
   "metadata": {},
   "outputs": [
    {
     "output_type": "execute_result",
     "data": {
      "text/plain": [
       "   School ID            school_name      type  size   budget\n",
       "0          0      Huang High School  District  2917  1910635\n",
       "1          1   Figueroa High School  District  2949  1884411\n",
       "2          2    Shelton High School   Charter  1761  1056600\n",
       "3          3  Hernandez High School  District  4635  3022020\n",
       "4          4    Griffin High School   Charter  1468   917500"
      ],
      "text/html": "<div>\n<style scoped>\n    .dataframe tbody tr th:only-of-type {\n        vertical-align: middle;\n    }\n\n    .dataframe tbody tr th {\n        vertical-align: top;\n    }\n\n    .dataframe thead th {\n        text-align: right;\n    }\n</style>\n<table border=\"1\" class=\"dataframe\">\n  <thead>\n    <tr style=\"text-align: right;\">\n      <th></th>\n      <th>School ID</th>\n      <th>school_name</th>\n      <th>type</th>\n      <th>size</th>\n      <th>budget</th>\n    </tr>\n  </thead>\n  <tbody>\n    <tr>\n      <th>0</th>\n      <td>0</td>\n      <td>Huang High School</td>\n      <td>District</td>\n      <td>2917</td>\n      <td>1910635</td>\n    </tr>\n    <tr>\n      <th>1</th>\n      <td>1</td>\n      <td>Figueroa High School</td>\n      <td>District</td>\n      <td>2949</td>\n      <td>1884411</td>\n    </tr>\n    <tr>\n      <th>2</th>\n      <td>2</td>\n      <td>Shelton High School</td>\n      <td>Charter</td>\n      <td>1761</td>\n      <td>1056600</td>\n    </tr>\n    <tr>\n      <th>3</th>\n      <td>3</td>\n      <td>Hernandez High School</td>\n      <td>District</td>\n      <td>4635</td>\n      <td>3022020</td>\n    </tr>\n    <tr>\n      <th>4</th>\n      <td>4</td>\n      <td>Griffin High School</td>\n      <td>Charter</td>\n      <td>1468</td>\n      <td>917500</td>\n    </tr>\n  </tbody>\n</table>\n</div>"
     },
     "metadata": {},
     "execution_count": 3
    }
   ],
   "source": [
    "school_data.head()"
   ]
  },
  {
   "cell_type": "code",
   "execution_count": 4,
   "metadata": {},
   "outputs": [
    {
     "output_type": "execute_result",
     "data": {
      "text/plain": [
       "   Student ID       student_name gender grade        school_name  \\\n",
       "0           0       Paul Bradley      M   9th  Huang High School   \n",
       "1           1       Victor Smith      M  12th  Huang High School   \n",
       "2           2    Kevin Rodriguez      M  12th  Huang High School   \n",
       "3           3  Dr. Richard Scott      M  12th  Huang High School   \n",
       "4           4         Bonnie Ray      F   9th  Huang High School   \n",
       "\n",
       "   reading_score  math_score  \n",
       "0             66          79  \n",
       "1             94          61  \n",
       "2             90          60  \n",
       "3             67          58  \n",
       "4             97          84  "
      ],
      "text/html": "<div>\n<style scoped>\n    .dataframe tbody tr th:only-of-type {\n        vertical-align: middle;\n    }\n\n    .dataframe tbody tr th {\n        vertical-align: top;\n    }\n\n    .dataframe thead th {\n        text-align: right;\n    }\n</style>\n<table border=\"1\" class=\"dataframe\">\n  <thead>\n    <tr style=\"text-align: right;\">\n      <th></th>\n      <th>Student ID</th>\n      <th>student_name</th>\n      <th>gender</th>\n      <th>grade</th>\n      <th>school_name</th>\n      <th>reading_score</th>\n      <th>math_score</th>\n    </tr>\n  </thead>\n  <tbody>\n    <tr>\n      <th>0</th>\n      <td>0</td>\n      <td>Paul Bradley</td>\n      <td>M</td>\n      <td>9th</td>\n      <td>Huang High School</td>\n      <td>66</td>\n      <td>79</td>\n    </tr>\n    <tr>\n      <th>1</th>\n      <td>1</td>\n      <td>Victor Smith</td>\n      <td>M</td>\n      <td>12th</td>\n      <td>Huang High School</td>\n      <td>94</td>\n      <td>61</td>\n    </tr>\n    <tr>\n      <th>2</th>\n      <td>2</td>\n      <td>Kevin Rodriguez</td>\n      <td>M</td>\n      <td>12th</td>\n      <td>Huang High School</td>\n      <td>90</td>\n      <td>60</td>\n    </tr>\n    <tr>\n      <th>3</th>\n      <td>3</td>\n      <td>Dr. Richard Scott</td>\n      <td>M</td>\n      <td>12th</td>\n      <td>Huang High School</td>\n      <td>67</td>\n      <td>58</td>\n    </tr>\n    <tr>\n      <th>4</th>\n      <td>4</td>\n      <td>Bonnie Ray</td>\n      <td>F</td>\n      <td>9th</td>\n      <td>Huang High School</td>\n      <td>97</td>\n      <td>84</td>\n    </tr>\n  </tbody>\n</table>\n</div>"
     },
     "metadata": {},
     "execution_count": 4
    }
   ],
   "source": [
    "student_data.head()"
   ]
  },
  {
   "cell_type": "code",
   "execution_count": 5,
   "metadata": {},
   "outputs": [],
   "source": [
    "# Combine the data into a single dataset using the .merge method.  \n",
    "school_data_complete = pd.merge(student_data, school_data, how=\"left\", on=[\"school_name\", \"school_name\"])"
   ]
  },
  {
   "cell_type": "code",
   "execution_count": 6,
   "metadata": {},
   "outputs": [
    {
     "output_type": "execute_result",
     "data": {
      "text/plain": [
       "   Student ID       student_name gender grade        school_name  \\\n",
       "0           0       Paul Bradley      M   9th  Huang High School   \n",
       "1           1       Victor Smith      M  12th  Huang High School   \n",
       "2           2    Kevin Rodriguez      M  12th  Huang High School   \n",
       "3           3  Dr. Richard Scott      M  12th  Huang High School   \n",
       "4           4         Bonnie Ray      F   9th  Huang High School   \n",
       "5           5      Bryan Miranda      M   9th  Huang High School   \n",
       "6           6      Sheena Carter      F  11th  Huang High School   \n",
       "7           7       Nicole Baker      F  12th  Huang High School   \n",
       "8           8       Michael Roth      M  10th  Huang High School   \n",
       "9           9     Matthew Greene      M  10th  Huang High School   \n",
       "\n",
       "   reading_score  math_score  School ID      type  size   budget  \n",
       "0             66          79          0  District  2917  1910635  \n",
       "1             94          61          0  District  2917  1910635  \n",
       "2             90          60          0  District  2917  1910635  \n",
       "3             67          58          0  District  2917  1910635  \n",
       "4             97          84          0  District  2917  1910635  \n",
       "5             94          94          0  District  2917  1910635  \n",
       "6             82          80          0  District  2917  1910635  \n",
       "7             96          69          0  District  2917  1910635  \n",
       "8             95          87          0  District  2917  1910635  \n",
       "9             96          84          0  District  2917  1910635  "
      ],
      "text/html": "<div>\n<style scoped>\n    .dataframe tbody tr th:only-of-type {\n        vertical-align: middle;\n    }\n\n    .dataframe tbody tr th {\n        vertical-align: top;\n    }\n\n    .dataframe thead th {\n        text-align: right;\n    }\n</style>\n<table border=\"1\" class=\"dataframe\">\n  <thead>\n    <tr style=\"text-align: right;\">\n      <th></th>\n      <th>Student ID</th>\n      <th>student_name</th>\n      <th>gender</th>\n      <th>grade</th>\n      <th>school_name</th>\n      <th>reading_score</th>\n      <th>math_score</th>\n      <th>School ID</th>\n      <th>type</th>\n      <th>size</th>\n      <th>budget</th>\n    </tr>\n  </thead>\n  <tbody>\n    <tr>\n      <th>0</th>\n      <td>0</td>\n      <td>Paul Bradley</td>\n      <td>M</td>\n      <td>9th</td>\n      <td>Huang High School</td>\n      <td>66</td>\n      <td>79</td>\n      <td>0</td>\n      <td>District</td>\n      <td>2917</td>\n      <td>1910635</td>\n    </tr>\n    <tr>\n      <th>1</th>\n      <td>1</td>\n      <td>Victor Smith</td>\n      <td>M</td>\n      <td>12th</td>\n      <td>Huang High School</td>\n      <td>94</td>\n      <td>61</td>\n      <td>0</td>\n      <td>District</td>\n      <td>2917</td>\n      <td>1910635</td>\n    </tr>\n    <tr>\n      <th>2</th>\n      <td>2</td>\n      <td>Kevin Rodriguez</td>\n      <td>M</td>\n      <td>12th</td>\n      <td>Huang High School</td>\n      <td>90</td>\n      <td>60</td>\n      <td>0</td>\n      <td>District</td>\n      <td>2917</td>\n      <td>1910635</td>\n    </tr>\n    <tr>\n      <th>3</th>\n      <td>3</td>\n      <td>Dr. Richard Scott</td>\n      <td>M</td>\n      <td>12th</td>\n      <td>Huang High School</td>\n      <td>67</td>\n      <td>58</td>\n      <td>0</td>\n      <td>District</td>\n      <td>2917</td>\n      <td>1910635</td>\n    </tr>\n    <tr>\n      <th>4</th>\n      <td>4</td>\n      <td>Bonnie Ray</td>\n      <td>F</td>\n      <td>9th</td>\n      <td>Huang High School</td>\n      <td>97</td>\n      <td>84</td>\n      <td>0</td>\n      <td>District</td>\n      <td>2917</td>\n      <td>1910635</td>\n    </tr>\n    <tr>\n      <th>5</th>\n      <td>5</td>\n      <td>Bryan Miranda</td>\n      <td>M</td>\n      <td>9th</td>\n      <td>Huang High School</td>\n      <td>94</td>\n      <td>94</td>\n      <td>0</td>\n      <td>District</td>\n      <td>2917</td>\n      <td>1910635</td>\n    </tr>\n    <tr>\n      <th>6</th>\n      <td>6</td>\n      <td>Sheena Carter</td>\n      <td>F</td>\n      <td>11th</td>\n      <td>Huang High School</td>\n      <td>82</td>\n      <td>80</td>\n      <td>0</td>\n      <td>District</td>\n      <td>2917</td>\n      <td>1910635</td>\n    </tr>\n    <tr>\n      <th>7</th>\n      <td>7</td>\n      <td>Nicole Baker</td>\n      <td>F</td>\n      <td>12th</td>\n      <td>Huang High School</td>\n      <td>96</td>\n      <td>69</td>\n      <td>0</td>\n      <td>District</td>\n      <td>2917</td>\n      <td>1910635</td>\n    </tr>\n    <tr>\n      <th>8</th>\n      <td>8</td>\n      <td>Michael Roth</td>\n      <td>M</td>\n      <td>10th</td>\n      <td>Huang High School</td>\n      <td>95</td>\n      <td>87</td>\n      <td>0</td>\n      <td>District</td>\n      <td>2917</td>\n      <td>1910635</td>\n    </tr>\n    <tr>\n      <th>9</th>\n      <td>9</td>\n      <td>Matthew Greene</td>\n      <td>M</td>\n      <td>10th</td>\n      <td>Huang High School</td>\n      <td>96</td>\n      <td>84</td>\n      <td>0</td>\n      <td>District</td>\n      <td>2917</td>\n      <td>1910635</td>\n    </tr>\n  </tbody>\n</table>\n</div>"
     },
     "metadata": {},
     "execution_count": 6
    }
   ],
   "source": [
    "school_data_complete.head(10)"
   ]
  },
  {
   "cell_type": "code",
   "execution_count": 7,
   "metadata": {},
   "outputs": [
    {
     "output_type": "execute_result",
     "data": {
      "text/plain": [
       "Student ID        int64\n",
       "student_name     object\n",
       "gender           object\n",
       "grade            object\n",
       "school_name      object\n",
       "reading_score     int64\n",
       "math_score        int64\n",
       "School ID         int64\n",
       "type             object\n",
       "size              int64\n",
       "budget            int64\n",
       "dtype: object"
      ]
     },
     "metadata": {},
     "execution_count": 7
    }
   ],
   "source": [
    "# check data types before attempting calculations\n",
    "school_data_complete.dtypes"
   ]
  },
  {
   "cell_type": "code",
   "execution_count": 8,
   "metadata": {},
   "outputs": [
    {
     "output_type": "execute_result",
     "data": {
      "text/plain": [
       "Student ID       39170\n",
       "student_name     39170\n",
       "gender           39170\n",
       "grade            39170\n",
       "school_name      39170\n",
       "reading_score    39170\n",
       "math_score       39170\n",
       "School ID        39170\n",
       "type             39170\n",
       "size             39170\n",
       "budget           39170\n",
       "dtype: int64"
      ]
     },
     "metadata": {},
     "execution_count": 8
    }
   ],
   "source": [
    "# Explore DataFrame for missing values\n",
    "school_data_complete.count()\n",
    " # none found"
   ]
  },
  {
   "cell_type": "code",
   "execution_count": 9,
   "metadata": {},
   "outputs": [
    {
     "output_type": "execute_result",
     "data": {
      "text/plain": [
       "Bailey High School       4976\n",
       "Johnson High School      4761\n",
       "Hernandez High School    4635\n",
       "Rodriguez High School    3999\n",
       "Figueroa High School     2949\n",
       "Huang High School        2917\n",
       "Ford High School         2739\n",
       "Wilson High School       2283\n",
       "Cabrera High School      1858\n",
       "Wright High School       1800\n",
       "Shelton High School      1761\n",
       "Thomas High School       1635\n",
       "Griffin High School      1468\n",
       "Pena High School          962\n",
       "Holden High School        427\n",
       "Name: school_name, dtype: int64"
      ]
     },
     "metadata": {},
     "execution_count": 9
    }
   ],
   "source": [
    "# Optional: Exploritory Data Analysis - Explore DataFrame for school counts to understand general distribution of students by school\n",
    "school_data_complete[\"school_name\"].value_counts()"
   ]
  },
  {
   "cell_type": "markdown",
   "metadata": {},
   "source": [
    "## District Summary\n",
    "\n",
    "* Calculate the total number of schools\n",
    "\n",
    "* Calculate the total number of students\n",
    "\n",
    "* Calculate the total budget\n",
    "\n",
    "* Calculate the average math score \n",
    "\n",
    "* Calculate the average reading score\n",
    "\n",
    "* Calculate the percentage of students with a passing math score (70 or greater)\n",
    "\n",
    "* Calculate the percentage of students with a passing reading score (70 or greater)\n",
    "\n",
    "* Calculate the percentage of students who passed math **and** reading (% Overall Passing)\n",
    "\n",
    "* Create a dataframe to hold the above results\n",
    "\n",
    "* Optional: give the displayed data cleaner formatting"
   ]
  },
  {
   "cell_type": "code",
   "execution_count": 10,
   "metadata": {},
   "outputs": [
    {
     "output_type": "execute_result",
     "data": {
      "text/plain": [
       "   Student ID  student_name gender grade        school_name  reading_score  \\\n",
       "0           0  Paul Bradley      M   9th  Huang High School             66   \n",
       "1           1  Victor Smith      M  12th  Huang High School             94   \n",
       "\n",
       "   math_score  School ID      type  size   budget  \n",
       "0          79          0  District  2917  1910635  \n",
       "1          61          0  District  2917  1910635  "
      ],
      "text/html": "<div>\n<style scoped>\n    .dataframe tbody tr th:only-of-type {\n        vertical-align: middle;\n    }\n\n    .dataframe tbody tr th {\n        vertical-align: top;\n    }\n\n    .dataframe thead th {\n        text-align: right;\n    }\n</style>\n<table border=\"1\" class=\"dataframe\">\n  <thead>\n    <tr style=\"text-align: right;\">\n      <th></th>\n      <th>Student ID</th>\n      <th>student_name</th>\n      <th>gender</th>\n      <th>grade</th>\n      <th>school_name</th>\n      <th>reading_score</th>\n      <th>math_score</th>\n      <th>School ID</th>\n      <th>type</th>\n      <th>size</th>\n      <th>budget</th>\n    </tr>\n  </thead>\n  <tbody>\n    <tr>\n      <th>0</th>\n      <td>0</td>\n      <td>Paul Bradley</td>\n      <td>M</td>\n      <td>9th</td>\n      <td>Huang High School</td>\n      <td>66</td>\n      <td>79</td>\n      <td>0</td>\n      <td>District</td>\n      <td>2917</td>\n      <td>1910635</td>\n    </tr>\n    <tr>\n      <th>1</th>\n      <td>1</td>\n      <td>Victor Smith</td>\n      <td>M</td>\n      <td>12th</td>\n      <td>Huang High School</td>\n      <td>94</td>\n      <td>61</td>\n      <td>0</td>\n      <td>District</td>\n      <td>2917</td>\n      <td>1910635</td>\n    </tr>\n  </tbody>\n</table>\n</div>"
     },
     "metadata": {},
     "execution_count": 10
    }
   ],
   "source": [
    "# display the DataFrame for reference below\n",
    "school_data_complete.head(2)"
   ]
  },
  {
   "cell_type": "markdown",
   "metadata": {},
   "source": [
    "#### Calculate the total number of schools"
   ]
  },
  {
   "cell_type": "code",
   "execution_count": 11,
   "metadata": {},
   "outputs": [
    {
     "output_type": "stream",
     "name": "stdout",
     "text": [
      "There are a total of 15 schools in the PyCitySchools DataSet\n"
     ]
    }
   ],
   "source": [
    "# Calculate the total number of (unique) schools and use len function to find total\n",
    "unique_schools_list = school_data_complete[\"school_name\"].unique()\n",
    "total_number_schools = len(unique_schools_list)\n",
    "print(f\"There are a total of {total_number_schools} schools in the PyCitySchools DataSet\")"
   ]
  },
  {
   "cell_type": "markdown",
   "metadata": {},
   "source": [
    "#### Calculate the total number of students\n",
    "\n"
   ]
  },
  {
   "cell_type": "code",
   "execution_count": 12,
   "metadata": {},
   "outputs": [
    {
     "output_type": "stream",
     "name": "stdout",
     "text": [
      "There are a total of 39,170 students in the PyCitySchools DataSet\n"
     ]
    }
   ],
   "source": [
    "# Calculate the total number of students using the count method\n",
    "total_number_students = school_data_complete[\"Student ID\"].count()\n",
    "\n",
    "print(f\"There are a total of {total_number_students:,.0f} students in the PyCitySchools DataSet\")"
   ]
  },
  {
   "cell_type": "markdown",
   "metadata": {},
   "source": [
    "#### Calculate the total budget"
   ]
  },
  {
   "cell_type": "code",
   "execution_count": 13,
   "metadata": {},
   "outputs": [
    {
     "output_type": "stream",
     "name": "stdout",
     "text": [
      "The total budget for all PyCity Schools is $24,649,428.00\n"
     ]
    }
   ],
   "source": [
    "# Calculate the total budget (from the school_data DataFrame ) using the sum method\n",
    "total_budget = school_data[\"budget\"].sum()\n",
    "\n",
    "print(f\"The total budget for all PyCity Schools is ${total_budget:,.2f}\")"
   ]
  },
  {
   "cell_type": "markdown",
   "metadata": {},
   "source": [
    "#### Calculate the average math score"
   ]
  },
  {
   "cell_type": "code",
   "execution_count": 14,
   "metadata": {},
   "outputs": [
    {
     "output_type": "stream",
     "name": "stdout",
     "text": [
      "The average math score for students in PyCity Schools is 78.99\n"
     ]
    }
   ],
   "source": [
    "# Calculate the average math score and apply rounding\n",
    "avg_math_score = round(school_data_complete[\"math_score\"].mean(), 2)\n",
    "\n",
    "print(f\"The average math score for students in PyCity Schools is {avg_math_score}\")"
   ]
  },
  {
   "cell_type": "markdown",
   "metadata": {},
   "source": [
    "#### Calculate the average reading score"
   ]
  },
  {
   "cell_type": "code",
   "execution_count": 15,
   "metadata": {},
   "outputs": [
    {
     "output_type": "stream",
     "name": "stdout",
     "text": [
      "The average reading score for students in PyCity Schools is 81.88\n"
     ]
    }
   ],
   "source": [
    "# Calculate the average reading score and apply rounding\n",
    "avg_read_score = round(school_data_complete[\"reading_score\"].mean(), 2)\n",
    "\n",
    "print(f\"The average reading score for students in PyCity Schools is {avg_read_score}\")"
   ]
  },
  {
   "cell_type": "markdown",
   "metadata": {},
   "source": [
    "#### Calculate the percentage of students with a passing math score (70 or greater)\n",
    "\n"
   ]
  },
  {
   "cell_type": "code",
   "execution_count": 16,
   "metadata": {},
   "outputs": [
    {
     "output_type": "stream",
     "name": "stdout",
     "text": [
      "0.75 percent of the students in PySchools have a math grade of 70 or above (Passing)\n"
     ]
    }
   ],
   "source": [
    "# Calculate the percentage of students with a passing math score (70 or greater)\n",
    "passing_math = school_data_complete[(school_data_complete[\"math_score\"] >=70)].count()[\"student_name\"]\n",
    "percent_passing_math = round((passing_math / total_number_students), 2)\n",
    "\n",
    "print(f\"{percent_passing_math} percent of the students in PySchools have a math grade of 70 or above (Passing)\")"
   ]
  },
  {
   "cell_type": "markdown",
   "metadata": {},
   "source": [
    "#### Calculate the percentage of students with a passing reading score (70 or greater)"
   ]
  },
  {
   "cell_type": "code",
   "execution_count": 17,
   "metadata": {},
   "outputs": [
    {
     "output_type": "stream",
     "name": "stdout",
     "text": [
      "86.00% percent of the students in PySchools have a reading grade of 70 or above (passing)\n"
     ]
    }
   ],
   "source": [
    "# Calculate the percentage of students with a passing reading score (70 or greater)\n",
    "passing_reading = school_data_complete[(school_data_complete[\"reading_score\"] >= 70)].count()[\"student_name\"]\n",
    "percent_passing_reading = round(passing_reading / total_number_students, 2)\n",
    "\n",
    "print(f\"{percent_passing_reading:.2%} percent of the students in PySchools have a reading grade of 70 or above (passing)\")"
   ]
  },
  {
   "cell_type": "markdown",
   "metadata": {},
   "source": [
    "#### Calculate the percentage of students who passed math and reading (% Overall Passing)"
   ]
  },
  {
   "cell_type": "code",
   "execution_count": 18,
   "metadata": {},
   "outputs": [
    {
     "output_type": "stream",
     "name": "stdout",
     "text": [
      "65.00% percent of students passing math and reading where passing is 70 or greater\n"
     ]
    }
   ],
   "source": [
    "# Calculate the percentage of students who passed math and reading (% Overall Passing)\n",
    "overall_passing = school_data_complete[(school_data_complete[\"math_score\"] >= 70) & (school_data_complete[\"reading_score\"] >= 70)].count()[\"student_name\"]\n",
    "percent_overall_passing = round(overall_passing / total_number_students, 2)\n",
    "\n",
    "print(f\"{percent_overall_passing:.2%} percent of students passing math and reading where passing is 70 or greater\")"
   ]
  },
  {
   "cell_type": "markdown",
   "metadata": {},
   "source": [
    "#### Create a dataframe to hold the above results"
   ]
  },
  {
   "cell_type": "code",
   "execution_count": 19,
   "metadata": {},
   "outputs": [
    {
     "output_type": "execute_result",
     "data": {
      "text/plain": [
       "   Total Schools  Total Students  Total Budget  Average Math Score  \\\n",
       "0             15           39170      24649428               78.99   \n",
       "\n",
       "   Average Reading Score  Percent Passing Math  Percent Passing Reading  \\\n",
       "0                  81.88                  0.75                     0.86   \n",
       "\n",
       "   Overall Passing Rate  \n",
       "0                  0.65  "
      ],
      "text/html": "<div>\n<style scoped>\n    .dataframe tbody tr th:only-of-type {\n        vertical-align: middle;\n    }\n\n    .dataframe tbody tr th {\n        vertical-align: top;\n    }\n\n    .dataframe thead th {\n        text-align: right;\n    }\n</style>\n<table border=\"1\" class=\"dataframe\">\n  <thead>\n    <tr style=\"text-align: right;\">\n      <th></th>\n      <th>Total Schools</th>\n      <th>Total Students</th>\n      <th>Total Budget</th>\n      <th>Average Math Score</th>\n      <th>Average Reading Score</th>\n      <th>Percent Passing Math</th>\n      <th>Percent Passing Reading</th>\n      <th>Overall Passing Rate</th>\n    </tr>\n  </thead>\n  <tbody>\n    <tr>\n      <th>0</th>\n      <td>15</td>\n      <td>39170</td>\n      <td>24649428</td>\n      <td>78.99</td>\n      <td>81.88</td>\n      <td>0.75</td>\n      <td>0.86</td>\n      <td>0.65</td>\n    </tr>\n  </tbody>\n</table>\n</div>"
     },
     "metadata": {},
     "execution_count": 19
    }
   ],
   "source": [
    "# Create a dataframe to hold the above results\n",
    "pyschool_summary_df = pd.DataFrame({\n",
    "    \"Total Schools\": [total_number_schools],\n",
    "    \"Total Students\": [total_number_students],\n",
    "    \"Total Budget\": [total_budget],    \n",
    "    \"Average Math Score\": [avg_math_score],\n",
    "    \"Average Reading Score\": [avg_read_score],\n",
    "    \"Percent Passing Math\": [percent_passing_math],\n",
    "    \"Percent Passing Reading\": [percent_passing_reading],\n",
    "    \"Overall Passing Rate\": [percent_overall_passing]\n",
    "})\n",
    "\n",
    "pyschool_summary_df"
   ]
  },
  {
   "cell_type": "code",
   "execution_count": 20,
   "metadata": {},
   "outputs": [
    {
     "output_type": "execute_result",
     "data": {
      "text/plain": [
       "Total Schools                int64\n",
       "Total Students               int64\n",
       "Total Budget                 int64\n",
       "Average Math Score         float64\n",
       "Average Reading Score      float64\n",
       "Percent Passing Math       float64\n",
       "Percent Passing Reading    float64\n",
       "Overall Passing Rate       float64\n",
       "dtype: object"
      ]
     },
     "metadata": {},
     "execution_count": 20
    }
   ],
   "source": [
    "# Check the dtypes before formating and compare to dtypes after formating\n",
    "pyschool_summary_df.dtypes"
   ]
  },
  {
   "cell_type": "markdown",
   "metadata": {},
   "source": [
    "#### Optional: give the displayed data cleaner formatting"
   ]
  },
  {
   "cell_type": "code",
   "execution_count": 21,
   "metadata": {},
   "outputs": [
    {
     "output_type": "execute_result",
     "data": {
      "text/plain": [
       "   Total Schools Total Students Total Budget  Average Math Score  \\\n",
       "0             15         39,170  $24,649,428               78.99   \n",
       "\n",
       "   Average Reading Score Percent Passing Math Percent Passing Reading  \\\n",
       "0                  81.88               75.00%                  86.00%   \n",
       "\n",
       "  Overall Passing Rate  \n",
       "0               65.00%  "
      ],
      "text/html": "<div>\n<style scoped>\n    .dataframe tbody tr th:only-of-type {\n        vertical-align: middle;\n    }\n\n    .dataframe tbody tr th {\n        vertical-align: top;\n    }\n\n    .dataframe thead th {\n        text-align: right;\n    }\n</style>\n<table border=\"1\" class=\"dataframe\">\n  <thead>\n    <tr style=\"text-align: right;\">\n      <th></th>\n      <th>Total Schools</th>\n      <th>Total Students</th>\n      <th>Total Budget</th>\n      <th>Average Math Score</th>\n      <th>Average Reading Score</th>\n      <th>Percent Passing Math</th>\n      <th>Percent Passing Reading</th>\n      <th>Overall Passing Rate</th>\n    </tr>\n  </thead>\n  <tbody>\n    <tr>\n      <th>0</th>\n      <td>15</td>\n      <td>39,170</td>\n      <td>$24,649,428</td>\n      <td>78.99</td>\n      <td>81.88</td>\n      <td>75.00%</td>\n      <td>86.00%</td>\n      <td>65.00%</td>\n    </tr>\n  </tbody>\n</table>\n</div>"
     },
     "metadata": {},
     "execution_count": 21
    }
   ],
   "source": [
    "# Optional: give the displayed data cleaner formatting\n",
    "# format using .map and .format methods\n",
    "pyschool_summary_df[\"Total Students\"] = pyschool_summary_df[\"Total Students\"].map(\"{:,}\".format)\n",
    "pyschool_summary_df[\"Total Budget\"] = pyschool_summary_df[\"Total Budget\"].map(\"${:,.0f}\".format)\n",
    "pyschool_summary_df[\"Percent Passing Math\"] = pyschool_summary_df[\"Percent Passing Math\"].map(\"{:.2%}\".format)\n",
    "pyschool_summary_df[\"Percent Passing Reading\"] = pyschool_summary_df[\"Percent Passing Reading\"].map(\"{:.2%}\".format)\n",
    "pyschool_summary_df[\"Overall Passing Rate\"] = pyschool_summary_df[\"Overall Passing Rate\"].map(\"{:.2%}\".format)                                                                     \n",
    "pyschool_summary_df"
   ]
  },
  {
   "cell_type": "code",
   "execution_count": 22,
   "metadata": {},
   "outputs": [
    {
     "output_type": "execute_result",
     "data": {
      "text/plain": [
       "Total Schools                int64\n",
       "Total Students              object\n",
       "Total Budget                object\n",
       "Average Math Score         float64\n",
       "Average Reading Score      float64\n",
       "Percent Passing Math        object\n",
       "Percent Passing Reading     object\n",
       "Overall Passing Rate        object\n",
       "dtype: object"
      ]
     },
     "metadata": {},
     "execution_count": 22
    }
   ],
   "source": [
    "# formating modifies the dtypes from numbers to Objects (strings) therefore the program should be re-run from the top to \"reset the dtypes\"\n",
    "pyschool_summary_df.dtypes"
   ]
  },
  {
   "cell_type": "markdown",
   "metadata": {},
   "source": [
    "## School Summary"
   ]
  },
  {
   "cell_type": "markdown",
   "metadata": {},
   "source": [
    "* Create an overview table that summarizes key metrics about each school, including:\n",
    "  * School Name\n",
    "  * School Type\n",
    "  * Total Students\n",
    "  * Total School Budget\n",
    "  * Per Student Budget\n",
    "  * Average Math Score\n",
    "  * Average Reading Score\n",
    "  * % Passing Math\n",
    "  * % Passing Reading\n",
    "  * % Overall Passing (The percentage of students that passed math **and** reading.)\n",
    "  \n",
    "* Create a dataframe to hold the above results"
   ]
  },
  {
   "cell_type": "markdown",
   "metadata": {},
   "source": [
    "#### School Name and School Type"
   ]
  },
  {
   "cell_type": "code",
   "execution_count": 23,
   "metadata": {},
   "outputs": [],
   "source": [
    "# School Name and School Type\n",
    "# Get school types using the set_index method to set the index to school name for the school_data DataFrame\n",
    "# Note: do this in two sets: first school_types = school_data.set_index([\"school_name\"]) and print to view results then add [\"type\"] and view results\n",
    "school_types = school_data.set_index([\"school_name\"])[\"type\"]\n",
    "school_types"
   ]
  },
  {
   "cell_type": "code",
   "execution_count": 24,
   "metadata": {},
   "outputs": [
    {
     "output_type": "execute_result",
     "data": {
      "text/plain": [
       "   Student ID  student_name gender grade        school_name  reading_score  \\\n",
       "0           0  Paul Bradley      M   9th  Huang High School             66   \n",
       "1           1  Victor Smith      M  12th  Huang High School             94   \n",
       "\n",
       "   math_score  School ID      type  size   budget  \n",
       "0          79          0  District  2917  1910635  \n",
       "1          61          0  District  2917  1910635  "
      ],
      "text/html": "<div>\n<style scoped>\n    .dataframe tbody tr th:only-of-type {\n        vertical-align: middle;\n    }\n\n    .dataframe tbody tr th {\n        vertical-align: top;\n    }\n\n    .dataframe thead th {\n        text-align: right;\n    }\n</style>\n<table border=\"1\" class=\"dataframe\">\n  <thead>\n    <tr style=\"text-align: right;\">\n      <th></th>\n      <th>Student ID</th>\n      <th>student_name</th>\n      <th>gender</th>\n      <th>grade</th>\n      <th>school_name</th>\n      <th>reading_score</th>\n      <th>math_score</th>\n      <th>School ID</th>\n      <th>type</th>\n      <th>size</th>\n      <th>budget</th>\n    </tr>\n  </thead>\n  <tbody>\n    <tr>\n      <th>0</th>\n      <td>0</td>\n      <td>Paul Bradley</td>\n      <td>M</td>\n      <td>9th</td>\n      <td>Huang High School</td>\n      <td>66</td>\n      <td>79</td>\n      <td>0</td>\n      <td>District</td>\n      <td>2917</td>\n      <td>1910635</td>\n    </tr>\n    <tr>\n      <th>1</th>\n      <td>1</td>\n      <td>Victor Smith</td>\n      <td>M</td>\n      <td>12th</td>\n      <td>Huang High School</td>\n      <td>94</td>\n      <td>61</td>\n      <td>0</td>\n      <td>District</td>\n      <td>2917</td>\n      <td>1910635</td>\n    </tr>\n  </tbody>\n</table>\n</div>"
     },
     "metadata": {},
     "execution_count": 24
    }
   ],
   "source": [
    "# display the DataFrame for reference below\n",
    "school_data_complete.head(2)"
   ]
  },
  {
   "cell_type": "markdown",
   "metadata": {},
   "source": [
    "#### Total Students"
   ]
  },
  {
   "cell_type": "code",
   "execution_count": 25,
   "metadata": {},
   "outputs": [],
   "source": [
    "# Total Students: get the count of total students for each school using the value_counts() method\n",
    "school_student_counts = school_data_complete[\"school_name\"].value_counts()\n",
    "\n",
    "# school_student_counts"
   ]
  },
  {
   "cell_type": "markdown",
   "metadata": {},
   "source": [
    "#### Total School Budget"
   ]
  },
  {
   "cell_type": "code",
   "execution_count": 26,
   "metadata": {},
   "outputs": [],
   "source": [
    "# Total School budget\n",
    "# This is done in three parts. \n",
    "    # First use groupby to group the DataFrame by school_name which creates an object. \n",
    "    # Second add an aggregation (sum, mean, count, etc.) to get a resulting DataFrame\n",
    "    # Third select the column(s) you want to keep - in this case just the \"budget\" column\n",
    "school_total_budget = school_data_complete.groupby([\"school_name\"]).mean()[\"budget\"]\n",
    "\n",
    "# school_total_budget"
   ]
  },
  {
   "cell_type": "markdown",
   "metadata": {},
   "source": [
    "#### Per Student Budget"
   ]
  },
  {
   "cell_type": "code",
   "execution_count": 27,
   "metadata": {},
   "outputs": [],
   "source": [
    "# Per Student Budget\n",
    "# Use per_student_budget = school_total_budget / school_student_counts\n",
    "school_per_student_budget = school_total_budget / school_student_counts\n",
    "\n",
    "# school_per_student_budget"
   ]
  },
  {
   "cell_type": "markdown",
   "metadata": {},
   "source": [
    "#### Average Math Score"
   ]
  },
  {
   "cell_type": "code",
   "execution_count": 28,
   "metadata": {},
   "outputs": [],
   "source": [
    "# Average Math Score\n",
    "# This is done in three parts. \n",
    "    # First use groupby to group the DataFrame by school_name which creates an object. \n",
    "    # Second add an aggregation (sum, mean, count, etc.) to get a resulting DataFrame\n",
    "    # Third select the column(s) you want to keep - in this case just the \"math_score\" column\n",
    "    # optional: use the round function to round to 2 decimal places\n",
    "school_avg_math_score = round(school_data_complete.groupby([\"school_name\"]).mean()[\"math_score\"], 2)   # optional: use the round function\n",
    "\n",
    "# school_avg_math_score"
   ]
  },
  {
   "cell_type": "markdown",
   "metadata": {},
   "source": [
    "#### Average Reading Score"
   ]
  },
  {
   "cell_type": "code",
   "execution_count": 29,
   "metadata": {},
   "outputs": [],
   "source": [
    "# Average Reading Score\n",
    "# This is done in three parts. \n",
    "    # First use groupby to group the DataFrame by school_name which creates an object. \n",
    "    # Second add an aggregation (sum, mean, count, etc.) to get a resulting DataFrame\n",
    "    # Third select the column(s) you want to keep - in this case just the \"reading_score\" column\n",
    "    # optional: use the round function to round to 2 decimal places\n",
    "school_avg_reading_score = round(school_data_complete.groupby([\"school_name\"]).mean()[\"reading_score\"], 2)   # optional: use the round function\n",
    "\n",
    "# school_avg_reading_score"
   ]
  },
  {
   "cell_type": "markdown",
   "metadata": {},
   "source": [
    "#### % Passing Math"
   ]
  },
  {
   "cell_type": "code",
   "execution_count": 30,
   "metadata": {},
   "outputs": [],
   "source": [
    "# Get DataFrame of students Passing Math\n",
    "    # This is done in two parts:\n",
    "        # First use a conditional to examine all rows to identif were math_score >=70 using a conditional - this results in a boolean\n",
    "        # Second create a DataFrame were step one is passed as an augument for the rows in the DataFrame\n",
    "school_passing_math_df = school_data_complete[(school_data_complete[\"math_score\"] >= 70)]\n",
    "# school_passing_math\n",
    "\n",
    "# Next get the Percent Passing Math\n",
    "    # This is done in two parts in order to perform the calculation: school_passing_math_count / school_student_counts\n",
    "        # First use the school_passing_math DataFrame created above and groupby on school name and using count for method of aggregation\n",
    "        # next, select the column(s) you want to keep - in this case just the \"student_name\" column\n",
    "school_passing_math_count = school_passing_math_df.groupby([\"school_name\"]).count()[\"student_name\"]\n",
    "# school_passing_math_count\n",
    "\n",
    "school_percent_passing_math = round(school_passing_math_count / school_student_counts * 100, 2)   # optional: use the round function\n",
    "# school_percent_passing_math"
   ]
  },
  {
   "cell_type": "markdown",
   "metadata": {},
   "source": [
    "#### Percent Passing Reading"
   ]
  },
  {
   "cell_type": "code",
   "execution_count": 31,
   "metadata": {},
   "outputs": [],
   "source": [
    "# Get DataFrame of students Passing Reading\n",
    "    # This is done in two parts:\n",
    "        # First use a conditional to examine all rows to identif were reading_score >=70 using a conditional - this results in a boolean\n",
    "        # Second create a DataFrame were step one is passed as an augument for the rows in the DataFrame\n",
    "school_passing_reading_df = school_data_complete[(school_data_complete[\"reading_score\"] >= 70)]\n",
    "# school_passing_reading\n",
    "\n",
    "# Next get the Percent Passing reading\n",
    "    # This is done in two parts in order to perform the calculation: school_passing_reading_count / school_student_counts\n",
    "        # First use the school_passing_reading DataFrame created above and groupby on school name and using count for method of aggregation\n",
    "        # next, select the column(s) you want to keep - in this case just the \"student_name\" column\n",
    "school_passing_reading_count = school_passing_reading_df.groupby([\"school_name\"]).count()[\"student_name\"]\n",
    "# school_passing_reading_count\n",
    "\n",
    "# perform the calculation school_passing_reading_count / school_student_counts and round to 2 decimal places\n",
    "school_percent_passing_reading = round(school_passing_reading_count / school_student_counts * 100, 2) # optional: use the round function\n",
    "# school_percent_passing_reading"
   ]
  },
  {
   "cell_type": "markdown",
   "metadata": {},
   "source": [
    "#### % Overall Passing"
   ]
  },
  {
   "cell_type": "code",
   "execution_count": 32,
   "metadata": {},
   "outputs": [],
   "source": [
    "# % Overall Passing (The percentage of students that passed math and reading\n",
    "# Get DataFrame of students passing math and reading\n",
    "    # This is done in two parts:\n",
    "        # First use a conditional that uses & to examine rows for students passing math and reading - this results in a boolean\n",
    "        # Second create a DataFrame were step one is passed as an augument for rows in the DataFrame\n",
    "school_passing_overall_df = school_data_complete[(school_data_complete[\"math_score\"] >= 70) & (school_data_complete[\"reading_score\"] >= 70)]\n",
    "# school_passing_overall_df\n",
    "\n",
    "# Next get the Percent Passing Overall\n",
    "    # This is done in two parts in order to perform the calculation: school_passing_overall / school_student_counts\n",
    "        # First use the school_passing_overall DataFrame created above and groupby on school name and using count for method of aggregation\n",
    "        # next, select the column(s) you want to keep - in this case just the \"student_name\" column\n",
    "school_passing_overall_count = school_passing_overall_df.groupby([\"school_name\"]).count()[\"student_name\"]\n",
    "# school_passing_overall_count\n",
    "\n",
    "# perform the calculation school_passing_overall_count / school_student_counts and round to 2 decimal places\n",
    "school_percent_passing_overall = round(school_passing_overall_count / school_student_counts * 100, 2)\n",
    "# school_percent_passing_overall\n"
   ]
  },
  {
   "cell_type": "markdown",
   "metadata": {},
   "source": [
    "#### Create a Summary Table (dataframe) to hold the above results"
   ]
  },
  {
   "cell_type": "code",
   "execution_count": 33,
   "metadata": {},
   "outputs": [
    {
     "output_type": "execute_result",
     "data": {
      "text/plain": [
       "                      School Type  Total Students  Total School Budget  \\\n",
       "Bailey High School       District            4976            3124928.0   \n",
       "Cabrera High School       Charter            1858            1081356.0   \n",
       "Figueroa High School     District            2949            1884411.0   \n",
       "Ford High School         District            2739            1763916.0   \n",
       "Griffin High School       Charter            1468             917500.0   \n",
       "Hernandez High School    District            4635            3022020.0   \n",
       "Holden High School        Charter             427             248087.0   \n",
       "Huang High School        District            2917            1910635.0   \n",
       "Johnson High School      District            4761            3094650.0   \n",
       "Pena High School          Charter             962             585858.0   \n",
       "Rodriguez High School    District            3999            2547363.0   \n",
       "Shelton High School       Charter            1761            1056600.0   \n",
       "Thomas High School        Charter            1635            1043130.0   \n",
       "Wilson High School        Charter            2283            1319574.0   \n",
       "Wright High School        Charter            1800            1049400.0   \n",
       "\n",
       "                       Budget per Student  Average Math Score  \\\n",
       "Bailey High School                  628.0               77.05   \n",
       "Cabrera High School                 582.0               83.06   \n",
       "Figueroa High School                639.0               76.71   \n",
       "Ford High School                    644.0               77.10   \n",
       "Griffin High School                 625.0               83.35   \n",
       "Hernandez High School               652.0               77.29   \n",
       "Holden High School                  581.0               83.80   \n",
       "Huang High School                   655.0               76.63   \n",
       "Johnson High School                 650.0               77.07   \n",
       "Pena High School                    609.0               83.84   \n",
       "Rodriguez High School               637.0               76.84   \n",
       "Shelton High School                 600.0               83.36   \n",
       "Thomas High School                  638.0               83.42   \n",
       "Wilson High School                  578.0               83.27   \n",
       "Wright High School                  583.0               83.68   \n",
       "\n",
       "                       Average Reading Score  % Passing Math  \\\n",
       "Bailey High School                     81.03           66.68   \n",
       "Cabrera High School                    83.98           94.13   \n",
       "Figueroa High School                   81.16           65.99   \n",
       "Ford High School                       80.75           68.31   \n",
       "Griffin High School                    83.82           93.39   \n",
       "Hernandez High School                  80.93           66.75   \n",
       "Holden High School                     83.81           92.51   \n",
       "Huang High School                      81.18           65.68   \n",
       "Johnson High School                    80.97           66.06   \n",
       "Pena High School                       84.04           94.59   \n",
       "Rodriguez High School                  80.74           66.37   \n",
       "Shelton High School                    83.73           93.87   \n",
       "Thomas High School                     83.85           93.27   \n",
       "Wilson High School                     83.99           93.87   \n",
       "Wright High School                     83.96           93.33   \n",
       "\n",
       "                       % Passing Reading  % Overall Passing  \n",
       "Bailey High School                 81.93              54.64  \n",
       "Cabrera High School                97.04              91.33  \n",
       "Figueroa High School               80.74              53.20  \n",
       "Ford High School                   79.30              54.29  \n",
       "Griffin High School                97.14              90.60  \n",
       "Hernandez High School              80.86              53.53  \n",
       "Holden High School                 96.25              89.23  \n",
       "Huang High School                  81.32              53.51  \n",
       "Johnson High School                81.22              53.54  \n",
       "Pena High School                   95.95              90.54  \n",
       "Rodriguez High School              80.22              52.99  \n",
       "Shelton High School                95.85              89.89  \n",
       "Thomas High School                 97.31              90.95  \n",
       "Wilson High School                 96.54              90.58  \n",
       "Wright High School                 96.61              90.33  "
      ],
      "text/html": "<div>\n<style scoped>\n    .dataframe tbody tr th:only-of-type {\n        vertical-align: middle;\n    }\n\n    .dataframe tbody tr th {\n        vertical-align: top;\n    }\n\n    .dataframe thead th {\n        text-align: right;\n    }\n</style>\n<table border=\"1\" class=\"dataframe\">\n  <thead>\n    <tr style=\"text-align: right;\">\n      <th></th>\n      <th>School Type</th>\n      <th>Total Students</th>\n      <th>Total School Budget</th>\n      <th>Budget per Student</th>\n      <th>Average Math Score</th>\n      <th>Average Reading Score</th>\n      <th>% Passing Math</th>\n      <th>% Passing Reading</th>\n      <th>% Overall Passing</th>\n    </tr>\n  </thead>\n  <tbody>\n    <tr>\n      <th>Bailey High School</th>\n      <td>District</td>\n      <td>4976</td>\n      <td>3124928.0</td>\n      <td>628.0</td>\n      <td>77.05</td>\n      <td>81.03</td>\n      <td>66.68</td>\n      <td>81.93</td>\n      <td>54.64</td>\n    </tr>\n    <tr>\n      <th>Cabrera High School</th>\n      <td>Charter</td>\n      <td>1858</td>\n      <td>1081356.0</td>\n      <td>582.0</td>\n      <td>83.06</td>\n      <td>83.98</td>\n      <td>94.13</td>\n      <td>97.04</td>\n      <td>91.33</td>\n    </tr>\n    <tr>\n      <th>Figueroa High School</th>\n      <td>District</td>\n      <td>2949</td>\n      <td>1884411.0</td>\n      <td>639.0</td>\n      <td>76.71</td>\n      <td>81.16</td>\n      <td>65.99</td>\n      <td>80.74</td>\n      <td>53.20</td>\n    </tr>\n    <tr>\n      <th>Ford High School</th>\n      <td>District</td>\n      <td>2739</td>\n      <td>1763916.0</td>\n      <td>644.0</td>\n      <td>77.10</td>\n      <td>80.75</td>\n      <td>68.31</td>\n      <td>79.30</td>\n      <td>54.29</td>\n    </tr>\n    <tr>\n      <th>Griffin High School</th>\n      <td>Charter</td>\n      <td>1468</td>\n      <td>917500.0</td>\n      <td>625.0</td>\n      <td>83.35</td>\n      <td>83.82</td>\n      <td>93.39</td>\n      <td>97.14</td>\n      <td>90.60</td>\n    </tr>\n    <tr>\n      <th>Hernandez High School</th>\n      <td>District</td>\n      <td>4635</td>\n      <td>3022020.0</td>\n      <td>652.0</td>\n      <td>77.29</td>\n      <td>80.93</td>\n      <td>66.75</td>\n      <td>80.86</td>\n      <td>53.53</td>\n    </tr>\n    <tr>\n      <th>Holden High School</th>\n      <td>Charter</td>\n      <td>427</td>\n      <td>248087.0</td>\n      <td>581.0</td>\n      <td>83.80</td>\n      <td>83.81</td>\n      <td>92.51</td>\n      <td>96.25</td>\n      <td>89.23</td>\n    </tr>\n    <tr>\n      <th>Huang High School</th>\n      <td>District</td>\n      <td>2917</td>\n      <td>1910635.0</td>\n      <td>655.0</td>\n      <td>76.63</td>\n      <td>81.18</td>\n      <td>65.68</td>\n      <td>81.32</td>\n      <td>53.51</td>\n    </tr>\n    <tr>\n      <th>Johnson High School</th>\n      <td>District</td>\n      <td>4761</td>\n      <td>3094650.0</td>\n      <td>650.0</td>\n      <td>77.07</td>\n      <td>80.97</td>\n      <td>66.06</td>\n      <td>81.22</td>\n      <td>53.54</td>\n    </tr>\n    <tr>\n      <th>Pena High School</th>\n      <td>Charter</td>\n      <td>962</td>\n      <td>585858.0</td>\n      <td>609.0</td>\n      <td>83.84</td>\n      <td>84.04</td>\n      <td>94.59</td>\n      <td>95.95</td>\n      <td>90.54</td>\n    </tr>\n    <tr>\n      <th>Rodriguez High School</th>\n      <td>District</td>\n      <td>3999</td>\n      <td>2547363.0</td>\n      <td>637.0</td>\n      <td>76.84</td>\n      <td>80.74</td>\n      <td>66.37</td>\n      <td>80.22</td>\n      <td>52.99</td>\n    </tr>\n    <tr>\n      <th>Shelton High School</th>\n      <td>Charter</td>\n      <td>1761</td>\n      <td>1056600.0</td>\n      <td>600.0</td>\n      <td>83.36</td>\n      <td>83.73</td>\n      <td>93.87</td>\n      <td>95.85</td>\n      <td>89.89</td>\n    </tr>\n    <tr>\n      <th>Thomas High School</th>\n      <td>Charter</td>\n      <td>1635</td>\n      <td>1043130.0</td>\n      <td>638.0</td>\n      <td>83.42</td>\n      <td>83.85</td>\n      <td>93.27</td>\n      <td>97.31</td>\n      <td>90.95</td>\n    </tr>\n    <tr>\n      <th>Wilson High School</th>\n      <td>Charter</td>\n      <td>2283</td>\n      <td>1319574.0</td>\n      <td>578.0</td>\n      <td>83.27</td>\n      <td>83.99</td>\n      <td>93.87</td>\n      <td>96.54</td>\n      <td>90.58</td>\n    </tr>\n    <tr>\n      <th>Wright High School</th>\n      <td>Charter</td>\n      <td>1800</td>\n      <td>1049400.0</td>\n      <td>583.0</td>\n      <td>83.68</td>\n      <td>83.96</td>\n      <td>93.33</td>\n      <td>96.61</td>\n      <td>90.33</td>\n    </tr>\n  </tbody>\n</table>\n</div>"
     },
     "metadata": {},
     "execution_count": 33
    }
   ],
   "source": [
    "# Create a Summary Table in the form of a dataframe to hold the above results\n",
    "# Note this is indexed by school name\n",
    "school_summary_df = pd.DataFrame({\n",
    "    \"School Type\": school_types,\n",
    "    \"Total Students\": school_student_counts,\n",
    "    \"Total School Budget\": school_total_budget,\n",
    "    \"Budget per Student\": school_per_student_budget,\n",
    "    \"Average Math Score\": school_avg_math_score,\n",
    "    \"Average Reading Score\": school_avg_reading_score,\n",
    "    \"% Passing Math\": school_percent_passing_math,\n",
    "    \"% Passing Reading\": school_percent_passing_reading,\n",
    "    \"% Overall Passing\": school_percent_passing_overall\n",
    "})\n",
    "\n",
    "school_summary_df"
   ]
  },
  {
   "cell_type": "code",
   "execution_count": 34,
   "metadata": {
    "scrolled": true
   },
   "outputs": [],
   "source": [
    "# TODO: Arrange Order of Columns to match output in the instructions"
   ]
  },
  {
   "cell_type": "code",
   "execution_count": 35,
   "metadata": {},
   "outputs": [],
   "source": [
    "# TODO: add formating to summary table"
   ]
  },
  {
   "cell_type": "markdown",
   "metadata": {},
   "source": [
    "## Top Performing Schools (By % Overall Passing)"
   ]
  },
  {
   "cell_type": "markdown",
   "metadata": {},
   "source": [
    "* Sort and display the top five performing schools by % overall passing."
   ]
  },
  {
   "cell_type": "code",
   "execution_count": 36,
   "metadata": {},
   "outputs": [
    {
     "output_type": "execute_result",
     "data": {
      "text/plain": [
       "                    School Type  Total Students  Total School Budget  \\\n",
       "Cabrera High School     Charter            1858            1081356.0   \n",
       "Thomas High School      Charter            1635            1043130.0   \n",
       "Griffin High School     Charter            1468             917500.0   \n",
       "Wilson High School      Charter            2283            1319574.0   \n",
       "Pena High School        Charter             962             585858.0   \n",
       "\n",
       "                     Budget per Student  Average Math Score  \\\n",
       "Cabrera High School               582.0               83.06   \n",
       "Thomas High School                638.0               83.42   \n",
       "Griffin High School               625.0               83.35   \n",
       "Wilson High School                578.0               83.27   \n",
       "Pena High School                  609.0               83.84   \n",
       "\n",
       "                     Average Reading Score  % Passing Math  % Passing Reading  \\\n",
       "Cabrera High School                  83.98           94.13              97.04   \n",
       "Thomas High School                   83.85           93.27              97.31   \n",
       "Griffin High School                  83.82           93.39              97.14   \n",
       "Wilson High School                   83.99           93.87              96.54   \n",
       "Pena High School                     84.04           94.59              95.95   \n",
       "\n",
       "                     % Overall Passing  \n",
       "Cabrera High School              91.33  \n",
       "Thomas High School               90.95  \n",
       "Griffin High School              90.60  \n",
       "Wilson High School               90.58  \n",
       "Pena High School                 90.54  "
      ],
      "text/html": "<div>\n<style scoped>\n    .dataframe tbody tr th:only-of-type {\n        vertical-align: middle;\n    }\n\n    .dataframe tbody tr th {\n        vertical-align: top;\n    }\n\n    .dataframe thead th {\n        text-align: right;\n    }\n</style>\n<table border=\"1\" class=\"dataframe\">\n  <thead>\n    <tr style=\"text-align: right;\">\n      <th></th>\n      <th>School Type</th>\n      <th>Total Students</th>\n      <th>Total School Budget</th>\n      <th>Budget per Student</th>\n      <th>Average Math Score</th>\n      <th>Average Reading Score</th>\n      <th>% Passing Math</th>\n      <th>% Passing Reading</th>\n      <th>% Overall Passing</th>\n    </tr>\n  </thead>\n  <tbody>\n    <tr>\n      <th>Cabrera High School</th>\n      <td>Charter</td>\n      <td>1858</td>\n      <td>1081356.0</td>\n      <td>582.0</td>\n      <td>83.06</td>\n      <td>83.98</td>\n      <td>94.13</td>\n      <td>97.04</td>\n      <td>91.33</td>\n    </tr>\n    <tr>\n      <th>Thomas High School</th>\n      <td>Charter</td>\n      <td>1635</td>\n      <td>1043130.0</td>\n      <td>638.0</td>\n      <td>83.42</td>\n      <td>83.85</td>\n      <td>93.27</td>\n      <td>97.31</td>\n      <td>90.95</td>\n    </tr>\n    <tr>\n      <th>Griffin High School</th>\n      <td>Charter</td>\n      <td>1468</td>\n      <td>917500.0</td>\n      <td>625.0</td>\n      <td>83.35</td>\n      <td>83.82</td>\n      <td>93.39</td>\n      <td>97.14</td>\n      <td>90.60</td>\n    </tr>\n    <tr>\n      <th>Wilson High School</th>\n      <td>Charter</td>\n      <td>2283</td>\n      <td>1319574.0</td>\n      <td>578.0</td>\n      <td>83.27</td>\n      <td>83.99</td>\n      <td>93.87</td>\n      <td>96.54</td>\n      <td>90.58</td>\n    </tr>\n    <tr>\n      <th>Pena High School</th>\n      <td>Charter</td>\n      <td>962</td>\n      <td>585858.0</td>\n      <td>609.0</td>\n      <td>83.84</td>\n      <td>84.04</td>\n      <td>94.59</td>\n      <td>95.95</td>\n      <td>90.54</td>\n    </tr>\n  </tbody>\n</table>\n</div>"
     },
     "metadata": {},
     "execution_count": 36
    }
   ],
   "source": [
    "# Use the DataFrame created for the summary table to display the top five performing schools \n",
    "    # By first sorting the list by \"% Overall Passing\" using the sort_values method and in descending order using the additional argument , ascending=False\n",
    "    # then using the .head() method to get the schools with the largest % overall passing  (head defalts to the first 5 if not argument is passed)\n",
    "top_performing_schools = school_summary_df.sort_values([\"% Overall Passing\"], ascending=False)\n",
    "top_performing_schools.head()"
   ]
  },
  {
   "cell_type": "markdown",
   "metadata": {},
   "source": [
    "## Bottom Performing Schools (By % Overall Passing)"
   ]
  },
  {
   "cell_type": "markdown",
   "metadata": {},
   "source": [
    "* Sort and display the five worst-performing schools by % overall passing."
   ]
  },
  {
   "cell_type": "code",
   "execution_count": 37,
   "metadata": {},
   "outputs": [
    {
     "output_type": "execute_result",
     "data": {
      "text/plain": [
       "                      School Type  Total Students  Total School Budget  \\\n",
       "Johnson High School      District            4761            3094650.0   \n",
       "Hernandez High School    District            4635            3022020.0   \n",
       "Huang High School        District            2917            1910635.0   \n",
       "Figueroa High School     District            2949            1884411.0   \n",
       "Rodriguez High School    District            3999            2547363.0   \n",
       "\n",
       "                       Budget per Student  Average Math Score  \\\n",
       "Johnson High School                 650.0               77.07   \n",
       "Hernandez High School               652.0               77.29   \n",
       "Huang High School                   655.0               76.63   \n",
       "Figueroa High School                639.0               76.71   \n",
       "Rodriguez High School               637.0               76.84   \n",
       "\n",
       "                       Average Reading Score  % Passing Math  \\\n",
       "Johnson High School                    80.97           66.06   \n",
       "Hernandez High School                  80.93           66.75   \n",
       "Huang High School                      81.18           65.68   \n",
       "Figueroa High School                   81.16           65.99   \n",
       "Rodriguez High School                  80.74           66.37   \n",
       "\n",
       "                       % Passing Reading  % Overall Passing  \n",
       "Johnson High School                81.22              53.54  \n",
       "Hernandez High School              80.86              53.53  \n",
       "Huang High School                  81.32              53.51  \n",
       "Figueroa High School               80.74              53.20  \n",
       "Rodriguez High School              80.22              52.99  "
      ],
      "text/html": "<div>\n<style scoped>\n    .dataframe tbody tr th:only-of-type {\n        vertical-align: middle;\n    }\n\n    .dataframe tbody tr th {\n        vertical-align: top;\n    }\n\n    .dataframe thead th {\n        text-align: right;\n    }\n</style>\n<table border=\"1\" class=\"dataframe\">\n  <thead>\n    <tr style=\"text-align: right;\">\n      <th></th>\n      <th>School Type</th>\n      <th>Total Students</th>\n      <th>Total School Budget</th>\n      <th>Budget per Student</th>\n      <th>Average Math Score</th>\n      <th>Average Reading Score</th>\n      <th>% Passing Math</th>\n      <th>% Passing Reading</th>\n      <th>% Overall Passing</th>\n    </tr>\n  </thead>\n  <tbody>\n    <tr>\n      <th>Johnson High School</th>\n      <td>District</td>\n      <td>4761</td>\n      <td>3094650.0</td>\n      <td>650.0</td>\n      <td>77.07</td>\n      <td>80.97</td>\n      <td>66.06</td>\n      <td>81.22</td>\n      <td>53.54</td>\n    </tr>\n    <tr>\n      <th>Hernandez High School</th>\n      <td>District</td>\n      <td>4635</td>\n      <td>3022020.0</td>\n      <td>652.0</td>\n      <td>77.29</td>\n      <td>80.93</td>\n      <td>66.75</td>\n      <td>80.86</td>\n      <td>53.53</td>\n    </tr>\n    <tr>\n      <th>Huang High School</th>\n      <td>District</td>\n      <td>2917</td>\n      <td>1910635.0</td>\n      <td>655.0</td>\n      <td>76.63</td>\n      <td>81.18</td>\n      <td>65.68</td>\n      <td>81.32</td>\n      <td>53.51</td>\n    </tr>\n    <tr>\n      <th>Figueroa High School</th>\n      <td>District</td>\n      <td>2949</td>\n      <td>1884411.0</td>\n      <td>639.0</td>\n      <td>76.71</td>\n      <td>81.16</td>\n      <td>65.99</td>\n      <td>80.74</td>\n      <td>53.20</td>\n    </tr>\n    <tr>\n      <th>Rodriguez High School</th>\n      <td>District</td>\n      <td>3999</td>\n      <td>2547363.0</td>\n      <td>637.0</td>\n      <td>76.84</td>\n      <td>80.74</td>\n      <td>66.37</td>\n      <td>80.22</td>\n      <td>52.99</td>\n    </tr>\n  </tbody>\n</table>\n</div>"
     },
     "metadata": {},
     "execution_count": 37
    }
   ],
   "source": [
    "# Use the DataFrame created for the summary table to display the bottom five performing schools \n",
    "    # By first sorting the list by \"% Overall Passing\" using the sort_values method and in descending order using the additional argument , ascending=False\n",
    "    # then using the .tail() method to get the schools with the smallest % overall passing  (tail defalts to the last 5 if not argument is passed)\n",
    "top_performing_schools = school_summary_df.sort_values([\"% Overall Passing\"], ascending=False)\n",
    "bottom_performing_schools = top_performing_schools.tail()\n",
    "bottom_performing_schools"
   ]
  },
  {
   "cell_type": "markdown",
   "metadata": {},
   "source": [
    "## Math Scores by Grade"
   ]
  },
  {
   "cell_type": "markdown",
   "metadata": {},
   "source": [
    "* Create a table that lists the average Reading Score for students of each grade level (9th, 10th, 11th, 12th) at each school.\n",
    "\n",
    "  * Create a pandas series for each grade. Hint: use a conditional statement.\n",
    "  \n",
    "  * Group each series by school\n",
    "  \n",
    "  * Combine the series into a dataframe\n",
    "  \n",
    "  * Optional: give the displayed data cleaner formatting"
   ]
  },
  {
   "cell_type": "code",
   "execution_count": 38,
   "metadata": {},
   "outputs": [],
   "source": [
    "# Create a pandas series (I am going to create a DataFrame) for each grade. Hint: use a conditional statement.\n",
    "    # For each grade first create a conditional i.e. school_data_complete[\"grade\"] == \"9th\" which will generate a boolean for each row\n",
    "    # then create a DataFrame of (in this case ninth_grade_students) by passing that conditional statement as an argument to identify the rows requested in a DataFrame\n",
    "# 9th grade\n",
    "ninth_grade_students_df = school_data_complete[(school_data_complete[\"grade\"] == \"9th\")]\n",
    "# ninth_grade_students_df\n",
    "\n",
    "# 10th grade\n",
    "tenth_grade_students_df = school_data_complete[(school_data_complete[\"grade\"] == \"10th\")]\n",
    "# tenth_grade_students_df\n",
    "\n",
    "# 11th grade\n",
    "eleventh_grade_students_df = school_data_complete[(school_data_complete[\"grade\"] == \"11th\")]\n",
    "# eleventh_grade_students_df\n",
    "\n",
    "# 12th grade\n",
    "twelfth_grade_students_df = school_data_complete[(school_data_complete[\"grade\"] == \"12th\")]\n",
    "# twelfth_grade_students_df"
   ]
  },
  {
   "cell_type": "code",
   "execution_count": 39,
   "metadata": {},
   "outputs": [],
   "source": [
    "# Group each series by school\n",
    "    # Use the DataFrame created above for each grade and use groupby to group by school_name\n",
    "    # Use the mean method of aggregation to get the average math score by school grade\n",
    "    # Select the column(s) you want to keep - in this case just the \"math_score\" column\n",
    "    # optional: use the round function to round to 2 decimal places\n",
    "\n",
    "#ninth grade\n",
    "ninth_grade_math_scores = round(ninth_grade_students_df.groupby([\"school_name\"]).mean()[\"math_score\"], 2)\n",
    "# ninth_grade_math_scores\n",
    "\n",
    "# tenth grade\n",
    "tenth_grade_math_scores = round(tenth_grade_students_df.groupby([\"school_name\"]).mean()[\"math_score\"], 2)\n",
    "# tenth_grade_math_scores\n",
    "\n",
    "# eleventh grade\n",
    "eleventh_grade_math_scores = round(eleventh_grade_students_df.groupby([\"school_name\"]).mean()[\"math_score\"], 2)\n",
    "# eleventh_grade_math_scores\n",
    "\n",
    "# twelfth grade\n",
    "twelfth_grade_math_scores = round(twelfth_grade_students_df.groupby([\"school_name\"]).mean()[\"math_score\"], 2)\n",
    "# twelfth_grade_math_scores"
   ]
  },
  {
   "cell_type": "code",
   "execution_count": 40,
   "metadata": {},
   "outputs": [
    {
     "output_type": "execute_result",
     "data": {
      "text/plain": [
       "                         9th   10th   11th   12th\n",
       "school_name                                      \n",
       "Bailey High School     77.08  77.00  77.52  76.49\n",
       "Cabrera High School    83.09  83.15  82.77  83.28\n",
       "Figueroa High School   76.40  76.54  76.88  77.15\n",
       "Ford High School       77.36  77.67  76.92  76.18\n",
       "Griffin High School    82.04  84.23  83.84  83.36\n",
       "Hernandez High School  77.44  77.34  77.14  77.19\n",
       "Holden High School     83.79  83.43  85.00  82.86\n",
       "Huang High School      77.03  75.91  76.45  77.23\n",
       "Johnson High School    77.19  76.69  77.49  76.86\n",
       "Pena High School       83.63  83.37  84.33  84.12\n",
       "Rodriguez High School  76.86  76.61  76.40  77.69\n",
       "Shelton High School    83.42  82.92  83.38  83.78\n",
       "Thomas High School     83.59  83.09  83.50  83.50\n",
       "Wilson High School     83.09  83.72  83.20  83.04\n",
       "Wright High School     83.26  84.01  83.84  83.64"
      ],
      "text/html": "<div>\n<style scoped>\n    .dataframe tbody tr th:only-of-type {\n        vertical-align: middle;\n    }\n\n    .dataframe tbody tr th {\n        vertical-align: top;\n    }\n\n    .dataframe thead th {\n        text-align: right;\n    }\n</style>\n<table border=\"1\" class=\"dataframe\">\n  <thead>\n    <tr style=\"text-align: right;\">\n      <th></th>\n      <th>9th</th>\n      <th>10th</th>\n      <th>11th</th>\n      <th>12th</th>\n    </tr>\n    <tr>\n      <th>school_name</th>\n      <th></th>\n      <th></th>\n      <th></th>\n      <th></th>\n    </tr>\n  </thead>\n  <tbody>\n    <tr>\n      <th>Bailey High School</th>\n      <td>77.08</td>\n      <td>77.00</td>\n      <td>77.52</td>\n      <td>76.49</td>\n    </tr>\n    <tr>\n      <th>Cabrera High School</th>\n      <td>83.09</td>\n      <td>83.15</td>\n      <td>82.77</td>\n      <td>83.28</td>\n    </tr>\n    <tr>\n      <th>Figueroa High School</th>\n      <td>76.40</td>\n      <td>76.54</td>\n      <td>76.88</td>\n      <td>77.15</td>\n    </tr>\n    <tr>\n      <th>Ford High School</th>\n      <td>77.36</td>\n      <td>77.67</td>\n      <td>76.92</td>\n      <td>76.18</td>\n    </tr>\n    <tr>\n      <th>Griffin High School</th>\n      <td>82.04</td>\n      <td>84.23</td>\n      <td>83.84</td>\n      <td>83.36</td>\n    </tr>\n    <tr>\n      <th>Hernandez High School</th>\n      <td>77.44</td>\n      <td>77.34</td>\n      <td>77.14</td>\n      <td>77.19</td>\n    </tr>\n    <tr>\n      <th>Holden High School</th>\n      <td>83.79</td>\n      <td>83.43</td>\n      <td>85.00</td>\n      <td>82.86</td>\n    </tr>\n    <tr>\n      <th>Huang High School</th>\n      <td>77.03</td>\n      <td>75.91</td>\n      <td>76.45</td>\n      <td>77.23</td>\n    </tr>\n    <tr>\n      <th>Johnson High School</th>\n      <td>77.19</td>\n      <td>76.69</td>\n      <td>77.49</td>\n      <td>76.86</td>\n    </tr>\n    <tr>\n      <th>Pena High School</th>\n      <td>83.63</td>\n      <td>83.37</td>\n      <td>84.33</td>\n      <td>84.12</td>\n    </tr>\n    <tr>\n      <th>Rodriguez High School</th>\n      <td>76.86</td>\n      <td>76.61</td>\n      <td>76.40</td>\n      <td>77.69</td>\n    </tr>\n    <tr>\n      <th>Shelton High School</th>\n      <td>83.42</td>\n      <td>82.92</td>\n      <td>83.38</td>\n      <td>83.78</td>\n    </tr>\n    <tr>\n      <th>Thomas High School</th>\n      <td>83.59</td>\n      <td>83.09</td>\n      <td>83.50</td>\n      <td>83.50</td>\n    </tr>\n    <tr>\n      <th>Wilson High School</th>\n      <td>83.09</td>\n      <td>83.72</td>\n      <td>83.20</td>\n      <td>83.04</td>\n    </tr>\n    <tr>\n      <th>Wright High School</th>\n      <td>83.26</td>\n      <td>84.01</td>\n      <td>83.84</td>\n      <td>83.64</td>\n    </tr>\n  </tbody>\n</table>\n</div>"
     },
     "metadata": {},
     "execution_count": 40
    }
   ],
   "source": [
    "# Combine into a single DataFrame\n",
    "math_scores_by_grade = pd.DataFrame({\n",
    "    \"9th\": ninth_grade_math_scores,\n",
    "    \"10th\": tenth_grade_math_scores,\n",
    "    \"11th\": eleventh_grade_math_scores,\n",
    "    \"12th\": twelfth_grade_math_scores\n",
    "})\n",
    "\n",
    "math_scores_by_grade"
   ]
  },
  {
   "cell_type": "markdown",
   "metadata": {},
   "source": [
    "## Reading Score by Grade "
   ]
  },
  {
   "cell_type": "markdown",
   "metadata": {},
   "source": [
    "* Perform the same operations as above for reading scores"
   ]
  },
  {
   "cell_type": "code",
   "execution_count": 41,
   "metadata": {},
   "outputs": [],
   "source": [
    "# Group each series by school\n",
    "    # Use the DataFrame created above for each grade and use groupby to group by school_name\n",
    "    # Use the mean method of aggregation to get the average reading score by school grade\n",
    "    # Select the column(s) you want to keep - in this case just the \"reading_score\" column\n",
    "    # optional: use the round function to round to 2 decimal places\n",
    "# ninth grade\n",
    "ninth_grade_reading_scores = round(ninth_grade_students_df.groupby([\"school_name\"]).mean()[\"reading_score\"], 2)\n",
    "# ninth_grade_reading_scores\n",
    "\n",
    "# tenth grade\n",
    "tenth_grade_reading_scores = round(tenth_grade_students_df.groupby([\"school_name\"]).mean()[\"reading_score\"], 2)\n",
    "# tenth_grade_reading_scores\n",
    "\n",
    "# eleventh grade\n",
    "eleventh_grade_reading_scores = round(eleventh_grade_students_df.groupby([\"school_name\"]).mean()[\"reading_score\"], 2)\n",
    "# eleventh_grade_reading_scores\n",
    "\n",
    "# twelfth grade\n",
    "twelfth_grade_reading_scores = round(twelfth_grade_students_df.groupby([\"school_name\"]).mean()[\"reading_score\"], 2)\n",
    "# twelfth_grade_reading_scores\n"
   ]
  },
  {
   "cell_type": "code",
   "execution_count": 42,
   "metadata": {},
   "outputs": [
    {
     "output_type": "execute_result",
     "data": {
      "text/plain": [
       "                         9th   10th   11th   12th\n",
       "school_name                                      \n",
       "Bailey High School     81.30  80.91  80.95  80.91\n",
       "Cabrera High School    83.68  84.25  83.79  84.29\n",
       "Figueroa High School   81.20  81.41  80.64  81.38\n",
       "Ford High School       80.63  81.26  80.40  80.66\n",
       "Griffin High School    83.37  83.71  84.29  84.01\n",
       "Hernandez High School  80.87  80.66  81.40  80.86\n",
       "Holden High School     83.68  83.32  83.82  84.70\n",
       "Huang High School      81.29  81.51  81.42  80.31\n",
       "Johnson High School    81.26  80.77  80.62  81.23\n",
       "Pena High School       83.81  83.61  84.34  84.59\n",
       "Rodriguez High School  80.99  80.63  80.86  80.38\n",
       "Shelton High School    84.12  83.44  84.37  82.78\n",
       "Thomas High School     83.73  84.25  83.59  83.83\n",
       "Wilson High School     83.94  84.02  83.76  84.32\n",
       "Wright High School     83.83  83.81  84.16  84.07"
      ],
      "text/html": "<div>\n<style scoped>\n    .dataframe tbody tr th:only-of-type {\n        vertical-align: middle;\n    }\n\n    .dataframe tbody tr th {\n        vertical-align: top;\n    }\n\n    .dataframe thead th {\n        text-align: right;\n    }\n</style>\n<table border=\"1\" class=\"dataframe\">\n  <thead>\n    <tr style=\"text-align: right;\">\n      <th></th>\n      <th>9th</th>\n      <th>10th</th>\n      <th>11th</th>\n      <th>12th</th>\n    </tr>\n    <tr>\n      <th>school_name</th>\n      <th></th>\n      <th></th>\n      <th></th>\n      <th></th>\n    </tr>\n  </thead>\n  <tbody>\n    <tr>\n      <th>Bailey High School</th>\n      <td>81.30</td>\n      <td>80.91</td>\n      <td>80.95</td>\n      <td>80.91</td>\n    </tr>\n    <tr>\n      <th>Cabrera High School</th>\n      <td>83.68</td>\n      <td>84.25</td>\n      <td>83.79</td>\n      <td>84.29</td>\n    </tr>\n    <tr>\n      <th>Figueroa High School</th>\n      <td>81.20</td>\n      <td>81.41</td>\n      <td>80.64</td>\n      <td>81.38</td>\n    </tr>\n    <tr>\n      <th>Ford High School</th>\n      <td>80.63</td>\n      <td>81.26</td>\n      <td>80.40</td>\n      <td>80.66</td>\n    </tr>\n    <tr>\n      <th>Griffin High School</th>\n      <td>83.37</td>\n      <td>83.71</td>\n      <td>84.29</td>\n      <td>84.01</td>\n    </tr>\n    <tr>\n      <th>Hernandez High School</th>\n      <td>80.87</td>\n      <td>80.66</td>\n      <td>81.40</td>\n      <td>80.86</td>\n    </tr>\n    <tr>\n      <th>Holden High School</th>\n      <td>83.68</td>\n      <td>83.32</td>\n      <td>83.82</td>\n      <td>84.70</td>\n    </tr>\n    <tr>\n      <th>Huang High School</th>\n      <td>81.29</td>\n      <td>81.51</td>\n      <td>81.42</td>\n      <td>80.31</td>\n    </tr>\n    <tr>\n      <th>Johnson High School</th>\n      <td>81.26</td>\n      <td>80.77</td>\n      <td>80.62</td>\n      <td>81.23</td>\n    </tr>\n    <tr>\n      <th>Pena High School</th>\n      <td>83.81</td>\n      <td>83.61</td>\n      <td>84.34</td>\n      <td>84.59</td>\n    </tr>\n    <tr>\n      <th>Rodriguez High School</th>\n      <td>80.99</td>\n      <td>80.63</td>\n      <td>80.86</td>\n      <td>80.38</td>\n    </tr>\n    <tr>\n      <th>Shelton High School</th>\n      <td>84.12</td>\n      <td>83.44</td>\n      <td>84.37</td>\n      <td>82.78</td>\n    </tr>\n    <tr>\n      <th>Thomas High School</th>\n      <td>83.73</td>\n      <td>84.25</td>\n      <td>83.59</td>\n      <td>83.83</td>\n    </tr>\n    <tr>\n      <th>Wilson High School</th>\n      <td>83.94</td>\n      <td>84.02</td>\n      <td>83.76</td>\n      <td>84.32</td>\n    </tr>\n    <tr>\n      <th>Wright High School</th>\n      <td>83.83</td>\n      <td>83.81</td>\n      <td>84.16</td>\n      <td>84.07</td>\n    </tr>\n  </tbody>\n</table>\n</div>"
     },
     "metadata": {},
     "execution_count": 42
    }
   ],
   "source": [
    "# @TODO Combine into a single DataFrame\n",
    "reading_scores_by_grade = pd.DataFrame({\n",
    "     \"9th\": ninth_grade_reading_scores,\n",
    "    \"10th\": tenth_grade_reading_scores,\n",
    "    \"11th\": eleventh_grade_reading_scores,\n",
    "    \"12th\": twelfth_grade_reading_scores\n",
    "})\n",
    "reading_scores_by_grade"
   ]
  },
  {
   "cell_type": "markdown",
   "metadata": {},
   "source": [
    "## Scores by School Spending"
   ]
  },
  {
   "cell_type": "markdown",
   "metadata": {},
   "source": [
    "* Create a table that breaks down school performances based on average Spending Ranges (Per Student). Use 4 reasonable bins to group school spending. Include in the table each of the following:\n",
    "  * Average Math Score\n",
    "  * Average Reading Score\n",
    "  * % Passing Math\n",
    "  * % Passing Reading\n",
    "  * Overall Passing Rate (Average of the above two)"
   ]
  },
  {
   "cell_type": "code",
   "execution_count": 43,
   "metadata": {},
   "outputs": [
    {
     "output_type": "execute_result",
     "data": {
      "text/plain": [
       "count     15.000000\n",
       "mean     620.066667\n",
       "std       28.544368\n",
       "min      578.000000\n",
       "25%      591.500000\n",
       "50%      628.000000\n",
       "75%      641.500000\n",
       "max      655.000000\n",
       "dtype: float64"
      ]
     },
     "metadata": {},
     "execution_count": 43
    }
   ],
   "source": [
    "# this ASK will made use of school_per_student_budget created \n",
    "\n",
    "# to get an idea of the bins to create use describe to examine the summary statistics for \n",
    "school_per_student_budget.describe()\n",
    "\n",
    "# note: the min is 578 and the max is 655 \n",
    "# to get an idea of bin size: take the difference between these numbers 655 - 578 and divide by 4 to get the general size of a bin ( in this case about 20 or 30 should be right)"
   ]
  },
  {
   "cell_type": "code",
   "execution_count": 44,
   "metadata": {},
   "outputs": [],
   "source": [
    "# The process for this ASK is:\n",
    "    # create a list for bins to bin spending into\n",
    "    # creaet group names for each of these bins\n",
    "\n",
    "school_spending_bins = [0, 590, 630, 650, 680]\n",
    "school_spending_groups = [\"<$590\", \"$590-630\", \"$630-650\", \"$650 and up\"]"
   ]
  },
  {
   "cell_type": "code",
   "execution_count": 45,
   "metadata": {},
   "outputs": [],
   "source": [
    "# Optional: create a copy of the school_per_student_budget using the .copy method\n",
    "school_spending_df = school_summary_df.copy()\n",
    "# school_spending_df"
   ]
  },
  {
   "cell_type": "code",
   "execution_count": 46,
   "metadata": {},
   "outputs": [],
   "source": [
    "# Create a new column called \"Spending Ranges(Per Student)\"\n",
    "# use the pandas cut method to categorize spending based on bins and group names created\n",
    "# note the arguments for the cut method can be observed using \"Show Contextual Help\" and clicking .cut below\n",
    "# the argument right=False indicates if the rightmost edge of the bin should be included - we don't want the right edge include so we add right=False (if this is not included the default is true)\n",
    "school_spending_df[\"Spending Ranges(Per Student)\"] = pd.cut(school_per_student_budget, school_spending_bins, labels=school_spending_groups, right=False)\n",
    "# school_spending_df"
   ]
  },
  {
   "cell_type": "code",
   "execution_count": 47,
   "metadata": {},
   "outputs": [],
   "source": [
    "# Create a table that breaks down school performances based on average Spending Ranges (Per Student)\n",
    "# This will be a DataFrame of averages for:\n",
    "    #     Average Math Score\n",
    "    #     Average Reading Score\n",
    "    #     % Passing Math\n",
    "    #     % Passing Reading\n",
    "    #     Overall Passing Rate (Average of the above two)\n",
    "\n",
    "    # Use groupby to group school_spending_df by \"Spending Ranges(Per Student)\" \n",
    "    # Apply the .mean() the method of aggregation\n",
    "    # select the columns to keep (i.e. \"Average Math Score\")\n",
    "    # Option: use the round function to round to 2 decimal places\n",
    "spending_ranges_avg_math_scores = round(school_spending_df.groupby([\"Spending Ranges(Per Student)\"]).mean()[\"Average Math Score\"], 2)\n",
    "# spending_ranges_avg_math_scores\n",
    "\n",
    "spending_ranges_avg_reading_scores = round(school_spending_df.groupby([\"Spending Ranges(Per Student)\"]).mean()[\"Average Reading Score\"], 2)\n",
    "# spending_ranges_avg_reading_scores\n",
    "\n",
    "spending_ranges_passing_math = round(school_spending_df.groupby([\"Spending Ranges(Per Student)\"]).mean()[\"% Passing Math\"], 2)\n",
    "# spending_ranges_passing_math\n",
    "\n",
    "spending_ranges_passing_reading = round(school_spending_df.groupby([\"Spending Ranges(Per Student)\"]).mean()[\"% Passing Reading\"], 2)\n",
    "# spending_ranges_passing_reading\n",
    "\n",
    "spending_ranges_passing_overall = round(school_spending_df.groupby([\"Spending Ranges(Per Student)\"]).mean()[\"% Overall Passing\"], 2)\n",
    "# spending_ranges_passing_overall\n"
   ]
  },
  {
   "cell_type": "code",
   "execution_count": 48,
   "metadata": {},
   "outputs": [
    {
     "output_type": "execute_result",
     "data": {
      "text/plain": [
       "                              Average Math Score  Average Reading Score  \\\n",
       "Spending Ranges(Per Student)                                              \n",
       "<$590                                      83.45                  83.94   \n",
       "$590-630                                   81.90                  83.16   \n",
       "$630-650                                   78.52                  81.62   \n",
       "$650 and up                                77.00                  81.03   \n",
       "\n",
       "                              % Passing Math  % Passing Reading  \\\n",
       "Spending Ranges(Per Student)                                      \n",
       "<$590                                  93.46              96.61   \n",
       "$590-630                               87.13              92.72   \n",
       "$630-650                               73.48              84.39   \n",
       "$650 and up                            66.16              81.13   \n",
       "\n",
       "                              Overall Passing Rate  \n",
       "Spending Ranges(Per Student)                        \n",
       "<$590                                        90.37  \n",
       "$590-630                                     81.42  \n",
       "$630-650                                     62.86  \n",
       "$650 and up                                  53.53  "
      ],
      "text/html": "<div>\n<style scoped>\n    .dataframe tbody tr th:only-of-type {\n        vertical-align: middle;\n    }\n\n    .dataframe tbody tr th {\n        vertical-align: top;\n    }\n\n    .dataframe thead th {\n        text-align: right;\n    }\n</style>\n<table border=\"1\" class=\"dataframe\">\n  <thead>\n    <tr style=\"text-align: right;\">\n      <th></th>\n      <th>Average Math Score</th>\n      <th>Average Reading Score</th>\n      <th>% Passing Math</th>\n      <th>% Passing Reading</th>\n      <th>Overall Passing Rate</th>\n    </tr>\n    <tr>\n      <th>Spending Ranges(Per Student)</th>\n      <th></th>\n      <th></th>\n      <th></th>\n      <th></th>\n      <th></th>\n    </tr>\n  </thead>\n  <tbody>\n    <tr>\n      <th>&lt;$590</th>\n      <td>83.45</td>\n      <td>83.94</td>\n      <td>93.46</td>\n      <td>96.61</td>\n      <td>90.37</td>\n    </tr>\n    <tr>\n      <th>$590-630</th>\n      <td>81.90</td>\n      <td>83.16</td>\n      <td>87.13</td>\n      <td>92.72</td>\n      <td>81.42</td>\n    </tr>\n    <tr>\n      <th>$630-650</th>\n      <td>78.52</td>\n      <td>81.62</td>\n      <td>73.48</td>\n      <td>84.39</td>\n      <td>62.86</td>\n    </tr>\n    <tr>\n      <th>$650 and up</th>\n      <td>77.00</td>\n      <td>81.03</td>\n      <td>66.16</td>\n      <td>81.13</td>\n      <td>53.53</td>\n    </tr>\n  </tbody>\n</table>\n</div>"
     },
     "metadata": {},
     "execution_count": 48
    }
   ],
   "source": [
    "# # Create a table that breaks down school performances based on average Spending Ranges (Per Student)\n",
    "# This will be a DataFrame of averages for:\n",
    "    #     Average Math Score\n",
    "    #     Average Reading Score\n",
    "    #     % Passing Math\n",
    "    #     % Passing Reading\n",
    "    #     Overall Passing Rate (Average of the above two)\n",
    "    \n",
    "spending_summary_df = pd.DataFrame({\n",
    "    \"Average Math Score\": spending_ranges_avg_math_scores,\n",
    "    \"Average Reading Score\": spending_ranges_avg_reading_scores,\n",
    "    \"% Passing Math\": spending_ranges_passing_math,\n",
    "    \"% Passing Reading\": spending_ranges_passing_reading,\n",
    "    \"Overall Passing Rate\": spending_ranges_passing_overall\n",
    "})\n",
    "spending_summary_df"
   ]
  },
  {
   "cell_type": "markdown",
   "metadata": {},
   "source": [
    "## Scores by School Size"
   ]
  },
  {
   "cell_type": "markdown",
   "metadata": {},
   "source": [
    "* Perform the same operations as above, based on school size."
   ]
  },
  {
   "cell_type": "code",
   "execution_count": 49,
   "metadata": {},
   "outputs": [
    {
     "output_type": "execute_result",
     "data": {
      "text/plain": [
       "                    School Type  Total Students  Total School Budget  \\\n",
       "Bailey High School     District            4976            3124928.0   \n",
       "Cabrera High School     Charter            1858            1081356.0   \n",
       "\n",
       "                     Budget per Student  Average Math Score  \\\n",
       "Bailey High School                628.0               77.05   \n",
       "Cabrera High School               582.0               83.06   \n",
       "\n",
       "                     Average Reading Score  % Passing Math  % Passing Reading  \\\n",
       "Bailey High School                   81.03           66.68              81.93   \n",
       "Cabrera High School                  83.98           94.13              97.04   \n",
       "\n",
       "                     % Overall Passing  \n",
       "Bailey High School               54.64  \n",
       "Cabrera High School              91.33  "
      ],
      "text/html": "<div>\n<style scoped>\n    .dataframe tbody tr th:only-of-type {\n        vertical-align: middle;\n    }\n\n    .dataframe tbody tr th {\n        vertical-align: top;\n    }\n\n    .dataframe thead th {\n        text-align: right;\n    }\n</style>\n<table border=\"1\" class=\"dataframe\">\n  <thead>\n    <tr style=\"text-align: right;\">\n      <th></th>\n      <th>School Type</th>\n      <th>Total Students</th>\n      <th>Total School Budget</th>\n      <th>Budget per Student</th>\n      <th>Average Math Score</th>\n      <th>Average Reading Score</th>\n      <th>% Passing Math</th>\n      <th>% Passing Reading</th>\n      <th>% Overall Passing</th>\n    </tr>\n  </thead>\n  <tbody>\n    <tr>\n      <th>Bailey High School</th>\n      <td>District</td>\n      <td>4976</td>\n      <td>3124928.0</td>\n      <td>628.0</td>\n      <td>77.05</td>\n      <td>81.03</td>\n      <td>66.68</td>\n      <td>81.93</td>\n      <td>54.64</td>\n    </tr>\n    <tr>\n      <th>Cabrera High School</th>\n      <td>Charter</td>\n      <td>1858</td>\n      <td>1081356.0</td>\n      <td>582.0</td>\n      <td>83.06</td>\n      <td>83.98</td>\n      <td>94.13</td>\n      <td>97.04</td>\n      <td>91.33</td>\n    </tr>\n  </tbody>\n</table>\n</div>"
     },
     "metadata": {},
     "execution_count": 49
    }
   ],
   "source": [
    "# this ASK will made use of school_summary_df created earlier\n",
    "school_summary_df.head(2)"
   ]
  },
  {
   "cell_type": "code",
   "execution_count": 50,
   "metadata": {
    "scrolled": true
   },
   "outputs": [
    {
     "output_type": "execute_result",
     "data": {
      "text/plain": [
       "count      15.000000\n",
       "mean     2611.333333\n",
       "std      1420.915282\n",
       "min       427.000000\n",
       "25%      1698.000000\n",
       "50%      2283.000000\n",
       "75%      3474.000000\n",
       "max      4976.000000\n",
       "Name: Total Students, dtype: float64"
      ]
     },
     "metadata": {},
     "execution_count": 50
    }
   ],
   "source": [
    "# this ASK will made use of school_summary_df created earlier\n",
    "\n",
    "# to get an idea of the bins to create use describe to examine the summary statistics for \n",
    "school_summary_df[\"Total Students\"].describe()\n",
    "\n",
    "# note the min is 427 and the max is 4979; To get the groups small, medium and large I will use bins = [0, 1000, 2000, 5000]"
   ]
  },
  {
   "cell_type": "code",
   "execution_count": 51,
   "metadata": {},
   "outputs": [],
   "source": [
    "# The process for this ASK is:\n",
    "    # create a list for bins to bin school size; the starter file suggests the bins of [0, 1000, 2000, 5000]\n",
    "    # creaet group names for each of these bins\n",
    "\n",
    "school_size_bins = [0, 1000, 2000, 5000]\n",
    "school_size_groups = [\"Small (<1000)\", \"Medium (1000-2000)\", \"Large (2000-5000)\"]"
   ]
  },
  {
   "cell_type": "code",
   "execution_count": 52,
   "metadata": {},
   "outputs": [
    {
     "output_type": "execute_result",
     "data": {
      "text/plain": [
       "                    School Type  Total Students  Total School Budget  \\\n",
       "Bailey High School     District            4976            3124928.0   \n",
       "Cabrera High School     Charter            1858            1081356.0   \n",
       "\n",
       "                     Budget per Student  Average Math Score  \\\n",
       "Bailey High School                628.0               77.05   \n",
       "Cabrera High School               582.0               83.06   \n",
       "\n",
       "                     Average Reading Score  % Passing Math  % Passing Reading  \\\n",
       "Bailey High School                   81.03           66.68              81.93   \n",
       "Cabrera High School                  83.98           94.13              97.04   \n",
       "\n",
       "                     % Overall Passing  \n",
       "Bailey High School               54.64  \n",
       "Cabrera High School              91.33  "
      ],
      "text/html": "<div>\n<style scoped>\n    .dataframe tbody tr th:only-of-type {\n        vertical-align: middle;\n    }\n\n    .dataframe tbody tr th {\n        vertical-align: top;\n    }\n\n    .dataframe thead th {\n        text-align: right;\n    }\n</style>\n<table border=\"1\" class=\"dataframe\">\n  <thead>\n    <tr style=\"text-align: right;\">\n      <th></th>\n      <th>School Type</th>\n      <th>Total Students</th>\n      <th>Total School Budget</th>\n      <th>Budget per Student</th>\n      <th>Average Math Score</th>\n      <th>Average Reading Score</th>\n      <th>% Passing Math</th>\n      <th>% Passing Reading</th>\n      <th>% Overall Passing</th>\n    </tr>\n  </thead>\n  <tbody>\n    <tr>\n      <th>Bailey High School</th>\n      <td>District</td>\n      <td>4976</td>\n      <td>3124928.0</td>\n      <td>628.0</td>\n      <td>77.05</td>\n      <td>81.03</td>\n      <td>66.68</td>\n      <td>81.93</td>\n      <td>54.64</td>\n    </tr>\n    <tr>\n      <th>Cabrera High School</th>\n      <td>Charter</td>\n      <td>1858</td>\n      <td>1081356.0</td>\n      <td>582.0</td>\n      <td>83.06</td>\n      <td>83.98</td>\n      <td>94.13</td>\n      <td>97.04</td>\n      <td>91.33</td>\n    </tr>\n  </tbody>\n</table>\n</div>"
     },
     "metadata": {},
     "execution_count": 52
    }
   ],
   "source": [
    "# Optional: create a copy of the school_summary_df using the .copy method\n",
    "school_size_df = school_summary_df.copy()\n",
    "school_size_df.head(2)"
   ]
  },
  {
   "cell_type": "code",
   "execution_count": 53,
   "metadata": {},
   "outputs": [],
   "source": [
    "# Create a new column called \"School Size\"\n",
    "# use the pandas cut method to categorize spending based on bins and group names created\n",
    "# note the arguments for the cut method can be observed using \"Show Contextual Help\" and clicking .cut below\n",
    "# the argument right=False indicates if the rightmost edge of the bin should be included - we don't want the right edge include so we add right=False (if this is not included the default is true)\n",
    "school_size_df[\"School Size\"] = pd.cut(school_student_counts, school_size_bins, labels=school_size_groups, right=False)\n",
    "# school_size_df"
   ]
  },
  {
   "cell_type": "code",
   "execution_count": 54,
   "metadata": {},
   "outputs": [],
   "source": [
    "# Create a table that breaks down school performances based on School Size\n",
    "# This will be a DataFrame:\n",
    "    #     Average Math Score\n",
    "    #     Average Reading Score\n",
    "    #     % Passing Math\n",
    "    #     % Passing Reading\n",
    "    #     Overall Passing Rate (Average of the above two)\n",
    "\n",
    "    # Use groupby to group school_size_df by \"School Size\" \n",
    "    # Apply the .mean() the method of aggregation\n",
    "    # select the columns to keep (i.e. \"Average Math Score\")\n",
    "    # Option: use the round function to round to 2 decimal places\n",
    "size_ranges_avg_math_scores = round(school_size_df.groupby([\"School Size\"]).mean()[\"Average Math Score\"], 2)\n",
    "# size_ranges_avg_math_scores\n",
    "\n",
    "size_ranges_avg_reading_scores = round(school_size_df.groupby([\"School Size\"]).mean()[\"Average Reading Score\"], 2)\n",
    "# size_ranges_avg_reading_scores\n",
    "\n",
    "size_ranges_passing_math = round(school_size_df.groupby([\"School Size\"]).mean()[\"% Passing Math\"], 2)\n",
    "# size_ranges_passing_math\n",
    "\n",
    "size_ranges_passing_reading = round(school_size_df.groupby([\"School Size\"]).mean()[\"% Passing Reading\"], 2)\n",
    "# size_ranges_passing_reading\n",
    "\n",
    "size_ranges_passing_overall = round(school_size_df.groupby([\"School Size\"]).mean()[\"% Overall Passing\"], 2)\n",
    "# size_ranges_passing_overall\n"
   ]
  },
  {
   "cell_type": "code",
   "execution_count": 55,
   "metadata": {},
   "outputs": [
    {
     "output_type": "execute_result",
     "data": {
      "text/plain": [
       "                    Average Math Score  Average Reading Score  % Passing Math  \\\n",
       "School Size                                                                     \n",
       "Small (<1000)                    83.82                  83.93           93.55   \n",
       "Medium (1000-2000)               83.37                  83.87           93.60   \n",
       "Large (2000-5000)                77.74                  81.34           69.96   \n",
       "\n",
       "                    % Passing Reading  Overall Passing Rate  \n",
       "School Size                                                  \n",
       "Small (<1000)                   96.10                 89.88  \n",
       "Medium (1000-2000)              96.79                 90.62  \n",
       "Large (2000-5000)               82.77                 58.28  "
      ],
      "text/html": "<div>\n<style scoped>\n    .dataframe tbody tr th:only-of-type {\n        vertical-align: middle;\n    }\n\n    .dataframe tbody tr th {\n        vertical-align: top;\n    }\n\n    .dataframe thead th {\n        text-align: right;\n    }\n</style>\n<table border=\"1\" class=\"dataframe\">\n  <thead>\n    <tr style=\"text-align: right;\">\n      <th></th>\n      <th>Average Math Score</th>\n      <th>Average Reading Score</th>\n      <th>% Passing Math</th>\n      <th>% Passing Reading</th>\n      <th>Overall Passing Rate</th>\n    </tr>\n    <tr>\n      <th>School Size</th>\n      <th></th>\n      <th></th>\n      <th></th>\n      <th></th>\n      <th></th>\n    </tr>\n  </thead>\n  <tbody>\n    <tr>\n      <th>Small (&lt;1000)</th>\n      <td>83.82</td>\n      <td>83.93</td>\n      <td>93.55</td>\n      <td>96.10</td>\n      <td>89.88</td>\n    </tr>\n    <tr>\n      <th>Medium (1000-2000)</th>\n      <td>83.37</td>\n      <td>83.87</td>\n      <td>93.60</td>\n      <td>96.79</td>\n      <td>90.62</td>\n    </tr>\n    <tr>\n      <th>Large (2000-5000)</th>\n      <td>77.74</td>\n      <td>81.34</td>\n      <td>69.96</td>\n      <td>82.77</td>\n      <td>58.28</td>\n    </tr>\n  </tbody>\n</table>\n</div>"
     },
     "metadata": {},
     "execution_count": 55
    }
   ],
   "source": [
    "# Create a table that breaks down school performances based on School Size\n",
    "# This will be a DataFrame:\n",
    "    #     Average Math Score\n",
    "    #     Average Reading Score\n",
    "    #     % Passing Math\n",
    "    #     % Passing Reading\n",
    "    #     Overall Passing Rate (Average of the above two)\n",
    "size_summary_df = pd.DataFrame({\n",
    "    \"Average Math Score\": size_ranges_avg_math_scores,\n",
    "    \"Average Reading Score\": size_ranges_avg_reading_scores,\n",
    "    \"% Passing Math\": size_ranges_passing_math,\n",
    "    \"% Passing Reading\": size_ranges_passing_reading,\n",
    "    \"Overall Passing Rate\": size_ranges_passing_overall\n",
    "})\n",
    "size_summary_df"
   ]
  },
  {
   "cell_type": "markdown",
   "metadata": {},
   "source": [
    "## Scores by School Type"
   ]
  },
  {
   "cell_type": "markdown",
   "metadata": {},
   "source": [
    "* Perform the same operations as above, based on school type"
   ]
  },
  {
   "cell_type": "code",
   "execution_count": 56,
   "metadata": {},
   "outputs": [
    {
     "output_type": "execute_result",
     "data": {
      "text/plain": [
       "                    School Type  Total Students  Total School Budget  \\\n",
       "Bailey High School     District            4976            3124928.0   \n",
       "Cabrera High School     Charter            1858            1081356.0   \n",
       "\n",
       "                     Budget per Student  Average Math Score  \\\n",
       "Bailey High School                628.0               77.05   \n",
       "Cabrera High School               582.0               83.06   \n",
       "\n",
       "                     Average Reading Score  % Passing Math  % Passing Reading  \\\n",
       "Bailey High School                   81.03           66.68              81.93   \n",
       "Cabrera High School                  83.98           94.13              97.04   \n",
       "\n",
       "                     % Overall Passing  \n",
       "Bailey High School               54.64  \n",
       "Cabrera High School              91.33  "
      ],
      "text/html": "<div>\n<style scoped>\n    .dataframe tbody tr th:only-of-type {\n        vertical-align: middle;\n    }\n\n    .dataframe tbody tr th {\n        vertical-align: top;\n    }\n\n    .dataframe thead th {\n        text-align: right;\n    }\n</style>\n<table border=\"1\" class=\"dataframe\">\n  <thead>\n    <tr style=\"text-align: right;\">\n      <th></th>\n      <th>School Type</th>\n      <th>Total Students</th>\n      <th>Total School Budget</th>\n      <th>Budget per Student</th>\n      <th>Average Math Score</th>\n      <th>Average Reading Score</th>\n      <th>% Passing Math</th>\n      <th>% Passing Reading</th>\n      <th>% Overall Passing</th>\n    </tr>\n  </thead>\n  <tbody>\n    <tr>\n      <th>Bailey High School</th>\n      <td>District</td>\n      <td>4976</td>\n      <td>3124928.0</td>\n      <td>628.0</td>\n      <td>77.05</td>\n      <td>81.03</td>\n      <td>66.68</td>\n      <td>81.93</td>\n      <td>54.64</td>\n    </tr>\n    <tr>\n      <th>Cabrera High School</th>\n      <td>Charter</td>\n      <td>1858</td>\n      <td>1081356.0</td>\n      <td>582.0</td>\n      <td>83.06</td>\n      <td>83.98</td>\n      <td>94.13</td>\n      <td>97.04</td>\n      <td>91.33</td>\n    </tr>\n  </tbody>\n</table>\n</div>"
     },
     "metadata": {},
     "execution_count": 56
    }
   ],
   "source": [
    "# this ASK will made use of school_summary_df created earlier\n",
    "# Optional: create a copy of the school_summary_df using the .copy method\n",
    "school_type_df = school_summary_df.copy()\n",
    "school_type_df.head(2)"
   ]
  },
  {
   "cell_type": "code",
   "execution_count": 57,
   "metadata": {},
   "outputs": [],
   "source": [
    "# Create a table that breaks down school performances based on School Type\n",
    "# This will be a DataFrame:\n",
    "    #     Average Math Score\n",
    "    #     Average Reading Score\n",
    "    #     % Passing Math\n",
    "    #     % Passing Reading\n",
    "    #     Overall Passing Rate (Average of the above two)\n",
    "\n",
    "    # Use groupby to group school_size_df by \"School Type\" \n",
    "    # Apply the .mean() the method of aggregation\n",
    "    # select the columns to keep (i.e. \"Average Math Score\")\n",
    "    # Option: use the round function to round to 2 decimal places\n",
    "size_type_avg_math_scores = round(school_type_df.groupby([\"School Type\"]).mean()[\"Average Math Score\"], 2)\n",
    "# size_type_avg_math_scores\n",
    "\n",
    "size_type_avg_reading_scores = round(school_type_df.groupby([\"School Type\"]).mean()[\"Average Reading Score\"], 2)\n",
    "# size_type_avg_reading_scores\n",
    "\n",
    "size_type_passing_math = round(school_type_df.groupby([\"School Type\"]).mean()[\"% Passing Math\"], 2)\n",
    "# size_type_passing_math\n",
    "\n",
    "size_type_passing_reading = round(school_type_df.groupby([\"School Type\"]).mean()[\"% Passing Reading\"], 2)\n",
    "# size_type_passing_reading\n",
    "\n",
    "size_type_passing_overall = round(school_type_df.groupby([\"School Type\"]).mean()[\"% Overall Passing\"], 2)\n",
    "# size_type_passing_overall"
   ]
  },
  {
   "cell_type": "code",
   "execution_count": 58,
   "metadata": {},
   "outputs": [
    {
     "output_type": "execute_result",
     "data": {
      "text/plain": [
       "             Average Math Score  Average Reading Score  % Passing Math  \\\n",
       "School Type                                                              \n",
       "Charter                   83.47                  83.90           93.62   \n",
       "District                  76.96                  80.97           66.55   \n",
       "\n",
       "             % Passing Reading  Overall Passing Rate  \n",
       "School Type                                           \n",
       "Charter                  96.59                 90.43  \n",
       "District                 80.80                 53.67  "
      ],
      "text/html": "<div>\n<style scoped>\n    .dataframe tbody tr th:only-of-type {\n        vertical-align: middle;\n    }\n\n    .dataframe tbody tr th {\n        vertical-align: top;\n    }\n\n    .dataframe thead th {\n        text-align: right;\n    }\n</style>\n<table border=\"1\" class=\"dataframe\">\n  <thead>\n    <tr style=\"text-align: right;\">\n      <th></th>\n      <th>Average Math Score</th>\n      <th>Average Reading Score</th>\n      <th>% Passing Math</th>\n      <th>% Passing Reading</th>\n      <th>Overall Passing Rate</th>\n    </tr>\n    <tr>\n      <th>School Type</th>\n      <th></th>\n      <th></th>\n      <th></th>\n      <th></th>\n      <th></th>\n    </tr>\n  </thead>\n  <tbody>\n    <tr>\n      <th>Charter</th>\n      <td>83.47</td>\n      <td>83.90</td>\n      <td>93.62</td>\n      <td>96.59</td>\n      <td>90.43</td>\n    </tr>\n    <tr>\n      <th>District</th>\n      <td>76.96</td>\n      <td>80.97</td>\n      <td>66.55</td>\n      <td>80.80</td>\n      <td>53.67</td>\n    </tr>\n  </tbody>\n</table>\n</div>"
     },
     "metadata": {},
     "execution_count": 58
    }
   ],
   "source": [
    "# Create a table that breaks down school performances based on School Type\n",
    "# This will be a DataFrame:\n",
    "    #     Average Math Score\n",
    "    #     Average Reading Score\n",
    "    #     % Passing Math\n",
    "    #     % Passing Reading\n",
    "    #     Overall Passing Rate (Average of the above two)\n",
    "type_summary_df = pd.DataFrame({\n",
    "    \"Average Math Score\": size_type_avg_math_scores,\n",
    "    \"Average Reading Score\": size_type_avg_reading_scores,\n",
    "    \"% Passing Math\": size_type_passing_math,\n",
    "    \"% Passing Reading\": size_type_passing_reading,\n",
    "    \"Overall Passing Rate\": size_type_passing_overall\n",
    "    })\n",
    "type_summary_df"
   ]
  },
  {
   "cell_type": "code",
   "execution_count": null,
   "metadata": {},
   "outputs": [],
   "source": []
  }
 ],
 "metadata": {
  "anaconda-cloud": {},
  "kernel_info": {
   "name": "python3"
  },
  "kernelspec": {
   "name": "python37364bitprogramdatavirtualenv3b1003139b8b4b7d9f6a1d13be3d9711",
   "display_name": "Python 3.8.8 64-bit ('base': conda)"
  },
  "language_info": {
   "codemirror_mode": {
    "name": "ipython",
    "version": 3
   },
   "file_extension": ".py",
   "mimetype": "text/x-python",
   "name": "python",
   "nbconvert_exporter": "python",
   "pygments_lexer": "ipython3",
   "version": "3.8.8"
  },
  "latex_envs": {
   "LaTeX_envs_menu_present": true,
   "autoclose": false,
   "autocomplete": true,
   "bibliofile": "biblio.bib",
   "cite_by": "apalike",
   "current_citInitial": 1,
   "eqLabelWithNumbers": true,
   "eqNumInitial": 1,
   "hotkeys": {
    "equation": "Ctrl-E",
    "itemize": "Ctrl-I"
   },
   "labels_anchors": false,
   "latex_user_defs": false,
   "report_style_numbering": false,
   "user_envs_cfg": false
  },
  "nteract": {
   "version": "0.8.4"
  },
  "metadata": {
   "interpreter": {
    "hash": "31193b2aee625d264620925d2ec53f755c625a9c121980b67eb24e816a2245a8"
   }
  }
 },
 "nbformat": 4,
 "nbformat_minor": 4
}